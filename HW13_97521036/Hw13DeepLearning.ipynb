{
  "nbformat": 4,
  "nbformat_minor": 0,
  "metadata": {
    "colab": {
      "name": "Hw13DeepLearning.ipynb",
      "provenance": [],
      "collapsed_sections": [
        "OFKXfqrgQfQm"
      ]
    },
    "kernelspec": {
      "name": "python3",
      "display_name": "Python 3"
    },
    "accelerator": "GPU"
  },
  "cells": [
    {
      "cell_type": "code",
      "metadata": {
        "id": "05e4mKftC8BP"
      },
      "source": [
        "#@title Student Information\n",
        "#@markdown Enter the following info and run the cell:\n",
        "Name = \"Melika Ahmadi Ranjbar\" #@param {type:\"string\"}\n",
        "StudentNumber = 97521036 #@param {type:\"integer\"}"
      ],
      "execution_count": null,
      "outputs": []
    },
    {
      "cell_type": "markdown",
      "metadata": {
        "id": "Tf-jnHngag-m"
      },
      "source": [
        "#Imports"
      ]
    },
    {
      "cell_type": "code",
      "metadata": {
        "id": "dJBzDr12K3bf"
      },
      "source": [
        "%%capture\n",
        "!pip install transformers"
      ],
      "execution_count": null,
      "outputs": []
    },
    {
      "cell_type": "code",
      "metadata": {
        "id": "-0twGcAkFWiG"
      },
      "source": [
        "import tensorflow as tf\n",
        "tf.config.run_functions_eagerly(True)\n",
        "import tensorflow_datasets as tfds\n",
        "\n",
        "from functools import reduce\n",
        "import tarfile\n",
        "import numpy as np\n",
        "import re\n",
        "\n",
        "import IPython\n",
        "from IPython.display import clear_output \n",
        "import matplotlib.pyplot as plt\n",
        "import pandas as pd\n",
        "\n",
        "from transformers import TFBertModel, BertTokenizer\n",
        "%matplotlib inline"
      ],
      "execution_count": null,
      "outputs": []
    },
    {
      "cell_type": "code",
      "metadata": {
        "colab": {
          "base_uri": "https://localhost:8080/"
        },
        "id": "FGw9iBLGU9Cu",
        "outputId": "ea51b936-2410-4814-b5a9-4fde1a492c2b"
      },
      "source": [
        "!nvidia-smi # check if gpu mode is selected"
      ],
      "execution_count": null,
      "outputs": [
        {
          "output_type": "stream",
          "name": "stdout",
          "text": [
            "Thu Jan  6 16:36:04 2022       \n",
            "+-----------------------------------------------------------------------------+\n",
            "| NVIDIA-SMI 495.44       Driver Version: 460.32.03    CUDA Version: 11.2     |\n",
            "|-------------------------------+----------------------+----------------------+\n",
            "| GPU  Name        Persistence-M| Bus-Id        Disp.A | Volatile Uncorr. ECC |\n",
            "| Fan  Temp  Perf  Pwr:Usage/Cap|         Memory-Usage | GPU-Util  Compute M. |\n",
            "|                               |                      |               MIG M. |\n",
            "|===============================+======================+======================|\n",
            "|   0  Tesla K80           Off  | 00000000:00:04.0 Off |                    0 |\n",
            "| N/A   64C    P8    31W / 149W |      0MiB / 11441MiB |      0%      Default |\n",
            "|                               |                      |                  N/A |\n",
            "+-------------------------------+----------------------+----------------------+\n",
            "                                                                               \n",
            "+-----------------------------------------------------------------------------+\n",
            "| Processes:                                                                  |\n",
            "|  GPU   GI   CI        PID   Type   Process name                  GPU Memory |\n",
            "|        ID   ID                                                   Usage      |\n",
            "|=============================================================================|\n",
            "|  No running processes found                                                 |\n",
            "+-----------------------------------------------------------------------------+\n"
          ]
        }
      ]
    },
    {
      "cell_type": "markdown",
      "metadata": {
        "id": "2JqUZuEo8G_p"
      },
      "source": [
        "We will use a dataset consists of questions where a previously given single supporting fact, potentially amongst a set of other irrelevant facts, provides the answer. We first test one of the simplest cases of this, by asking for the location of a person, e.g. “$Mary$ $travelled$ $to$ $the$ $office.$ $Where$ $is$ $Mary?$”. It can be considered the\n",
        "simplest case of some real world QA datasets."
      ]
    },
    {
      "cell_type": "markdown",
      "metadata": {
        "id": "KsvVnfvfGnib"
      },
      "source": [
        "About the dataset: https://research.fb.com/downloads/babi/"
      ]
    },
    {
      "cell_type": "markdown",
      "metadata": {
        "id": "-OlahJ1OrKjd"
      },
      "source": [
        "Lets download the dataset:"
      ]
    },
    {
      "cell_type": "markdown",
      "metadata": {
        "id": "h_dp3WT7FW8E"
      },
      "source": [
        "# 1. LSTM- Q&A\n",
        "\n"
      ]
    },
    {
      "cell_type": "markdown",
      "metadata": {
        "id": "259V3MeC9G55"
      },
      "source": [
        "## 1.2 Preprocessing"
      ]
    },
    {
      "cell_type": "markdown",
      "metadata": {
        "id": "4u_xDAfovXf7"
      },
      "source": [
        "Our model takes a discrete set of inputs $x_{1}, ..., x_{n}$ that are to be stored in the memory, a query $q$, and outputs an answer $a$. Each of the $x_{i}$, $q$, and $a$ contains symbols coming from a dictionary with $V$ words. The model writes all $x$ to the memory up to a fixed buffer size, and then finds a continuous representation for the $x$ and $q$. The continuous representation is then processed via multiple hops to\n",
        "output $a$. This allows backpropagation of the error signal through multiple memory accesses back to the input during training. The overall model is shown in the next figure. During training, all three embedding matrices $A, B$ and $C$, as well as $W$ are jointly learned by minimizing a standard cross-entropy loss between $aˆ$ and the true\n",
        "label $a$. Training is performed using stochastic gradient descent.\n",
        "\n",
        "\n",
        "Delve more deeply into the details: https://arxiv.org/pdf/1503.08895.pdf"
      ]
    },
    {
      "cell_type": "code",
      "metadata": {
        "id": "Tx-wpcdQJfpk"
      },
      "source": [
        "%%capture\n",
        "!wget https://s3.amazonaws.com/text-datasets/babi_tasks_1-20_v1-2.tar.gz\n",
        "!tar -xvzf babi_tasks_1-20_v1-2.tar.gz"
      ],
      "execution_count": null,
      "outputs": []
    },
    {
      "cell_type": "code",
      "metadata": {
        "id": "tBYgDigJanwz"
      },
      "source": [
        "challenges = [\n",
        "    'qa1_single-supporting-fact',\n",
        "    'qa2_two-supporting-facts',\n",
        "]\n",
        "train_file_path = f'/content/tasks_1-20_v1-2/en-10k/{challenges[0]}_train.txt'\n",
        "test_file_path = f'/content/tasks_1-20_v1-2/en-10k/{challenges[0]}_test.txt'"
      ],
      "execution_count": null,
      "outputs": []
    },
    {
      "cell_type": "code",
      "metadata": {
        "id": "JCBfH4qrrKjL"
      },
      "source": [
        "def word_tokenizer(sent):\n",
        "    return [ x.strip() for x in re.split('(\\W+)', sent) if x.strip()]"
      ],
      "execution_count": null,
      "outputs": []
    },
    {
      "cell_type": "markdown",
      "metadata": {
        "id": "_WLJmevS-Dy6"
      },
      "source": [
        "According to the dataset (bAbi tasks), we need to prepare the data for training the model. With the next function we parse the dataset and manufactore it in desired way."
      ]
    },
    {
      "cell_type": "code",
      "metadata": {
        "id": "tzksSX8drKjP"
      },
      "source": [
        "def parse_stories(lines, only_supporting=False, tokenize = True):\n",
        "    '''Parse stories provided in the bAbi tasks format\n",
        "    If only_supporting is true, only the sentences\n",
        "    that support the answer are kept.\n",
        "    '''\n",
        "    data = []\n",
        "    story = []\n",
        "    for line in lines:\n",
        "        line = line.strip()\n",
        "        nid, line = line.split(' ', 1)\n",
        "        nid = int(nid)\n",
        "        if nid == 1:\n",
        "            story = []\n",
        "        if '\\t' in line:\n",
        "            q, a, supporting = line.split('\\t')\n",
        "            if tokenize:\n",
        "                q = word_tokenizer(q)\n",
        "            substory = None\n",
        "            if only_supporting:\n",
        "                # Only select the related substory\n",
        "                supporting = map(int, supporting.split())\n",
        "                substory = [story[i - 1] for i in supporting]\n",
        "            else:\n",
        "                # Provide all the substories\n",
        "                substory = [x for x in story if x]\n",
        "            data.append((substory, q, a))\n",
        "            story.append('')\n",
        "        else:\n",
        "            if tokenize:\n",
        "                sent = word_tokenizer(line)\n",
        "            else:\n",
        "                sent = line\n",
        "            story.append(sent)\n",
        "    return data\n"
      ],
      "execution_count": null,
      "outputs": []
    },
    {
      "cell_type": "markdown",
      "metadata": {
        "id": "FwkiTJYRJvPe"
      },
      "source": [
        "Now we need to take proper structure of the data: "
      ]
    },
    {
      "cell_type": "code",
      "metadata": {
        "id": "kBc_rzF-rKjT"
      },
      "source": [
        "def get_stories(f, only_supporting=False, max_length=None, tokenize=True):\n",
        "    data = parse_stories(f.readlines(), only_supporting=only_supporting, tokenize=tokenize)\n",
        "    flatten = lambda data: reduce(lambda x, y: x + y, data)\n",
        "    data = [(story[0]+story[1], q, answer) for story, q, answer in data if not max_length or len(flatten(story)) < max_length]\n",
        "    return data"
      ],
      "execution_count": null,
      "outputs": []
    },
    {
      "cell_type": "markdown",
      "metadata": {
        "id": "FivvTCc8J-GW"
      },
      "source": [
        "Here we need to make the vectors of stories, questions and answers. its too easy:"
      ]
    },
    {
      "cell_type": "code",
      "metadata": {
        "id": "BzEnmDN_rKjW"
      },
      "source": [
        "def vectorize_stories(data, word_idx, story_maxlen, query_maxlen):\n",
        "    \n",
        "    ########################################\n",
        "    #     Put your implementation here     #\n",
        "    ########################################\n",
        "    \n",
        "    # Final results\n",
        "    inputs_train = []\n",
        "    queries_train = []\n",
        "    answers_train = []\n",
        "\n",
        "    for story, q, answer in data:\n",
        "        # Numpy variables for each\n",
        "        story_np = np.zeros(story_maxlen)\n",
        "        query_np = np.zeros(query_maxlen)\n",
        "\n",
        "        # For the answer we should consider the words\n",
        "        answer_np = np.zeros(len(word_idx) + 1)\n",
        "\n",
        "        # Make the array\n",
        "        for i in range(len(story)):\n",
        "            story_np[i] = word_idx[story[i]]\n",
        "\n",
        "        for i in range(len(q)):\n",
        "            query_np[i] = word_idx[q[i]]\n",
        "\n",
        "        # Which answer\n",
        "        answer_np[word_idx[answer]] = 1\n",
        "\n",
        "        # We add them to our results\n",
        "        inputs_train.append(story_np)\n",
        "        queries_train.append(query_np)\n",
        "        answers_train.append(answer_np)\n",
        "    \n",
        "    return np.array(inputs_train), np.array(queries_train), np.array(answers_train)"
      ],
      "execution_count": null,
      "outputs": []
    },
    {
      "cell_type": "markdown",
      "metadata": {
        "id": "B77myra2ZJYK"
      },
      "source": [
        "Its time to extract stories from the dataset, then pass them to the defined functions for parsing and make it usable:"
      ]
    },
    {
      "cell_type": "code",
      "metadata": {
        "id": "Akcwoo3frKjj"
      },
      "source": [
        "train_stories = get_stories(open(train_file_path), tokenize=True)\n",
        "test_stories = get_stories(open(test_file_path), tokenize=True)"
      ],
      "execution_count": null,
      "outputs": []
    },
    {
      "cell_type": "code",
      "metadata": {
        "id": "kyiMaVRirKjm",
        "colab": {
          "base_uri": "https://localhost:8080/"
        },
        "outputId": "090ad686-c920-489b-90fa-6a1133000dd2"
      },
      "source": [
        "len(train_stories), len(test_stories)"
      ],
      "execution_count": null,
      "outputs": [
        {
          "output_type": "execute_result",
          "data": {
            "text/plain": [
              "(10000, 1000)"
            ]
          },
          "metadata": {},
          "execution_count": 16
        }
      ]
    },
    {
      "cell_type": "markdown",
      "metadata": {
        "id": "YpXH9iYQrKjq"
      },
      "source": [
        "## 1.3 Check our helper functions and prepare the data:"
      ]
    },
    {
      "cell_type": "code",
      "metadata": {
        "id": "29110FTDrKjr"
      },
      "source": [
        "vocab = set()\n",
        "for story, q, answer in train_stories + test_stories:\n",
        "    vocab |= set(story + q + [answer])\n",
        "vocab = sorted(vocab)\n",
        "\n",
        "# Reserve 0 for masking via pad_sequences\n",
        "vocab_size = len(vocab) + 1\n",
        "story_maxlen = max(map(len, (x for x, _, _ in train_stories + test_stories)))\n",
        "query_maxlen = max(map(len, (x for _, x, _ in train_stories + test_stories)))"
      ],
      "execution_count": null,
      "outputs": []
    },
    {
      "cell_type": "code",
      "metadata": {
        "id": "PopB46hnrKju",
        "colab": {
          "base_uri": "https://localhost:8080/"
        },
        "outputId": "b426d93a-1392-4bde-b6a4-143d022d07d0"
      },
      "source": [
        "story_maxlen, query_maxlen"
      ],
      "execution_count": null,
      "outputs": [
        {
          "output_type": "execute_result",
          "data": {
            "text/plain": [
              "(14, 4)"
            ]
          },
          "metadata": {},
          "execution_count": 18
        }
      ]
    },
    {
      "cell_type": "code",
      "metadata": {
        "id": "q-G22KfxrKjy",
        "colab": {
          "base_uri": "https://localhost:8080/"
        },
        "outputId": "e478e683-6726-4bfc-c716-7da4253a78fd"
      },
      "source": [
        "print('-')\n",
        "print('Vocab size:', vocab_size, 'unique words')\n",
        "print('Story max length:', story_maxlen, 'words')\n",
        "print('Query max length:', query_maxlen, 'words')\n",
        "print('Number of training stories:', len(train_stories))\n",
        "print('Number of test stories:', len(test_stories))\n",
        "print('-')\n",
        "print('Here\\'s what a \"story\" tuple looks like (input, query, answer):')\n",
        "print(train_stories[0])\n",
        "print('-')\n",
        "print('Vectorizing the word sequences...')\n",
        "\n",
        "word_idx = dict((c, i + 1) for i, c in enumerate(vocab))\n",
        "idx_word = dict((i+1, c) for i,c in enumerate(vocab))\n",
        "inputs_train, queries_train, answers_train = vectorize_stories(train_stories,\n",
        "                                                               word_idx,\n",
        "                                                               story_maxlen,\n",
        "                                                               query_maxlen)\n",
        "inputs_test, queries_test, answers_test = vectorize_stories(test_stories,\n",
        "                                                            word_idx,\n",
        "                                                            story_maxlen,\n",
        "                                                            query_maxlen)\n"
      ],
      "execution_count": null,
      "outputs": [
        {
          "output_type": "stream",
          "name": "stdout",
          "text": [
            "-\n",
            "Vocab size: 22 unique words\n",
            "Story max length: 14 words\n",
            "Query max length: 4 words\n",
            "Number of training stories: 10000\n",
            "Number of test stories: 1000\n",
            "-\n",
            "Here's what a \"story\" tuple looks like (input, query, answer):\n",
            "(['Mary', 'moved', 'to', 'the', 'bathroom', '.', 'John', 'went', 'to', 'the', 'hallway', '.'], ['Where', 'is', 'Mary', '?'], 'bathroom')\n",
            "-\n",
            "Vectorizing the word sequences...\n"
          ]
        }
      ]
    },
    {
      "cell_type": "code",
      "metadata": {
        "id": "oMnIXlTBrKj1",
        "colab": {
          "base_uri": "https://localhost:8080/"
        },
        "outputId": "b7ad6599-8748-41df-c7fb-e22bf99081b3"
      },
      "source": [
        "inputs_train.shape, queries_train.shape, answers_train.shape"
      ],
      "execution_count": null,
      "outputs": [
        {
          "output_type": "execute_result",
          "data": {
            "text/plain": [
              "((10000, 14), (10000, 4), (10000, 22))"
            ]
          },
          "metadata": {},
          "execution_count": 79
        }
      ]
    },
    {
      "cell_type": "code",
      "metadata": {
        "id": "d4lNOEBkrKj5",
        "colab": {
          "base_uri": "https://localhost:8080/"
        },
        "outputId": "93fc3c1f-7809-4ae5-8c41-62ff0a6508d0"
      },
      "source": [
        "print('-')\n",
        "print('inputs: integer tensor of shape (samples, max_length)')\n",
        "print('inputs_train shape:', inputs_train.shape)\n",
        "print('inputs_test shape:', inputs_test.shape)\n",
        "print('-')\n",
        "print('queries: integer tensor of shape (samples, max_length)')\n",
        "print('queries_train shape:', queries_train.shape)\n",
        "print('queries_test shape:', queries_test.shape)\n",
        "print('-')\n",
        "print('answers: binary (1 or 0) tensor of shape (samples, vocab_size)')\n",
        "print('answers_train shape:', answers_train.shape)\n",
        "print('answers_test shape:', answers_test.shape)\n",
        "print('-')\n",
        "print('Compiling...')\n"
      ],
      "execution_count": null,
      "outputs": [
        {
          "output_type": "stream",
          "name": "stdout",
          "text": [
            "-\n",
            "inputs: integer tensor of shape (samples, max_length)\n",
            "inputs_train shape: (10000, 14)\n",
            "inputs_test shape: (1000, 14)\n",
            "-\n",
            "queries: integer tensor of shape (samples, max_length)\n",
            "queries_train shape: (10000, 4)\n",
            "queries_test shape: (1000, 4)\n",
            "-\n",
            "answers: binary (1 or 0) tensor of shape (samples, vocab_size)\n",
            "answers_train shape: (10000, 22)\n",
            "answers_test shape: (1000, 22)\n",
            "-\n",
            "Compiling...\n"
          ]
        }
      ]
    },
    {
      "cell_type": "markdown",
      "metadata": {
        "id": "tvyawLqgfz_N"
      },
      "source": [
        "In this part you should implement 2 functions which illustrate the procedure of learning, Loss and Accuracy. These functions take two inputs: \n",
        "* The history of your designed model \n",
        "* Proper title for describing the plot"
      ]
    },
    {
      "cell_type": "code",
      "metadata": {
        "id": "g8Ya5e3e3OWG"
      },
      "source": [
        "def plot_acc(history, title):\n",
        "  \n",
        "    # This function should show not only the plot of accuracy on training and validation set\n",
        "    # but also it should show the maximum value of accuracy with its related epoch.\n",
        "    ########################################\n",
        "    #     Put your implementation here     #\n",
        "    ########################################\n",
        "\n",
        "    # We already have the history, from fitting the model\n",
        "    plt.plot(history.history['accuracy'])\n",
        "    plt.plot(history.history['val_accuracy'])\n",
        "    plt.title('Model Accuracy')\n",
        "    plt.ylabel('Accuracy')\n",
        "    plt.xlabel('Epoch')\n",
        "    plt.legend(['Train', 'Validation'], loc='upper left')\n",
        "    plt.show()"
      ],
      "execution_count": null,
      "outputs": []
    },
    {
      "cell_type": "code",
      "metadata": {
        "id": "pA9BBcEP3Hym"
      },
      "source": [
        "def plot_loss(history, title):\n",
        "  \n",
        "    # This function should show not only the plot of loss on training and validation set\n",
        "    # but also it should show the minimum value of loss with its related epoch.\n",
        "    ########################################\n",
        "    #     Put your implementation here     #\n",
        "    ########################################\n",
        "\n",
        "    # We already have the history, from fitting the model\n",
        "    plt.plot(history.history['loss'])\n",
        "    plt.plot(history.history['val_loss'])\n",
        "    plt.title('Model Loss')\n",
        "    plt.ylabel('Loss')\n",
        "    plt.xlabel('Epoch')\n",
        "    plt.legend(['Train', 'Validation'], loc='upper left')\n",
        "    plt.show()"
      ],
      "execution_count": null,
      "outputs": []
    },
    {
      "cell_type": "markdown",
      "metadata": {
        "id": "cMxMeM78xBT8"
      },
      "source": [
        "Define model's hyperparameters"
      ]
    },
    {
      "cell_type": "code",
      "metadata": {
        "id": "p6-mw90LrKj9"
      },
      "source": [
        "train_epochs = 10\n",
        "batch_size = 32\n",
        "lstm_size = 64"
      ],
      "execution_count": null,
      "outputs": []
    },
    {
      "cell_type": "markdown",
      "metadata": {
        "id": "4G5X8ksgrKkA"
      },
      "source": [
        "## 1.4 Implementstion:"
      ]
    },
    {
      "cell_type": "markdown",
      "metadata": {
        "id": "ayB5NMoI-Sh-"
      },
      "source": [
        "Let's build the model. You should use Keras framework. The summary and outview of the right model is saved in the next cells to help you create the proper model faster.\n"
      ]
    },
    {
      "cell_type": "code",
      "metadata": {
        "id": "2UNREQ9rrKkB",
        "colab": {
          "base_uri": "https://localhost:8080/"
        },
        "outputId": "b90feb94-fe31-4687-af89-569018cddcca"
      },
      "source": [
        "# define the model: \n",
        "\n",
        "# We have input layers\n",
        "input_sequence = tf.keras.layers.Input((story_maxlen,))\n",
        "question = tf.keras.layers.Input((query_maxlen,))\n",
        "\n",
        "print('Input sequence:', input_sequence)\n",
        "print('Question:', question)\n",
        "\n",
        "########################################\n",
        "#     Put your implementation here     #\n",
        "########################################\n",
        "\n",
        "# We have to pass each layer to its next layer as well\n",
        "# We should exactly follow the picture\n",
        "# Sequential layers \n",
        "sequential = tf.keras.Sequential([tf.keras.layers.Embedding(input_dim=vocab_size, output_dim=64)])(input_sequence)\n",
        "sequential_2 = tf.keras.Sequential([tf.keras.layers.Embedding(input_dim=vocab_size, output_dim=64)])(question)\n",
        "sequential_1 = tf.keras.Sequential([tf.keras.layers.Embedding(input_dim=vocab_size, output_dim=4)])(input_sequence)\n",
        "\n",
        "dot = tf.keras.layers.Dot(axes=(2, 2))([sequential, sequential_2])\n",
        "activation = tf.keras.layers.Activation(\"relu\")(dot)\n",
        "add = tf.keras.layers.Add()([activation, sequential_1])\n",
        "\n",
        "# Change the places\n",
        "permute = tf.keras.layers.Permute((2, 1))(add)\n",
        "concatenate = tf.keras.layers.Concatenate()([permute, sequential_2])\n",
        "\n",
        "# Recurrent\n",
        "lstm = tf.keras.layers.LSTM(lstm_size)(concatenate)\n",
        "dropout_3 = tf.keras.layers.Dropout(0.2)(lstm)\n",
        "\n",
        "# Last layer\n",
        "dense = tf.keras.layers.Dense(22)(dropout_3)\n",
        "activation_1 = tf.keras.layers.Activation(\"softmax\")(dense)"
      ],
      "execution_count": null,
      "outputs": [
        {
          "output_type": "stream",
          "name": "stdout",
          "text": [
            "Input sequence: KerasTensor(type_spec=TensorSpec(shape=(None, 14), dtype=tf.float32, name='input_15'), name='input_15', description=\"created by layer 'input_15'\")\n",
            "Question: KerasTensor(type_spec=TensorSpec(shape=(None, 4), dtype=tf.float32, name='input_16'), name='input_16', description=\"created by layer 'input_16'\")\n"
          ]
        }
      ]
    },
    {
      "cell_type": "code",
      "metadata": {
        "id": "WUvfDiLkrKkF"
      },
      "source": [
        "# build the final model\n",
        "model = tf.keras.models.Model([input_sequence, question], activation_1)\n",
        "model.compile(optimizer='rmsprop', loss='categorical_crossentropy',\n",
        "              metrics=['accuracy'])"
      ],
      "execution_count": null,
      "outputs": []
    },
    {
      "cell_type": "markdown",
      "metadata": {
        "id": "UFqPorzN_9Lv"
      },
      "source": [
        "The model architecture should look like this:"
      ]
    },
    {
      "cell_type": "code",
      "metadata": {
        "id": "aX6c1qWQ0iMX",
        "colab": {
          "base_uri": "https://localhost:8080/",
          "height": 1000
        },
        "outputId": "2f801298-ba0b-426f-c650-08a854301205"
      },
      "source": [
        "from IPython.display import SVG\n",
        "\n",
        "SVG(tf.keras.utils.model_to_dot(model,show_shapes= True, show_layer_names=True, dpi=60).create(prog='dot', format='svg'))"
      ],
      "execution_count": null,
      "outputs": [
        {
          "output_type": "execute_result",
          "data": {
            "text/plain": [
              "<IPython.core.display.SVG object>"
            ],
            "image/svg+xml": "<svg height=\"737pt\" viewBox=\"0.00 0.00 852.00 885.00\" width=\"710pt\" xmlns=\"http://www.w3.org/2000/svg\" xmlns:xlink=\"http://www.w3.org/1999/xlink\">\n<g class=\"graph\" id=\"graph0\" transform=\"scale(.8333 .8333) rotate(0) translate(4 881)\">\n<title>G</title>\n<polygon fill=\"#ffffff\" points=\"-4,4 -4,-881 848,-881 848,4 -4,4\" stroke=\"transparent\"/>\n<!-- 139808947602656 -->\n<g class=\"node\" id=\"node1\">\n<title>139808947602656</title>\n<polygon fill=\"none\" points=\"124.5,-830.5 124.5,-876.5 404.5,-876.5 404.5,-830.5 124.5,-830.5\" stroke=\"#000000\"/>\n<text fill=\"#000000\" font-family=\"Times,serif\" font-size=\"14.00\" text-anchor=\"middle\" x=\"191\" y=\"-849.8\">input_1: InputLayer</text>\n<polyline fill=\"none\" points=\"257.5,-830.5 257.5,-876.5 \" stroke=\"#000000\"/>\n<text fill=\"#000000\" font-family=\"Times,serif\" font-size=\"14.00\" text-anchor=\"middle\" x=\"286.5\" y=\"-861.3\">input:</text>\n<polyline fill=\"none\" points=\"257.5,-853.5 315.5,-853.5 \" stroke=\"#000000\"/>\n<text fill=\"#000000\" font-family=\"Times,serif\" font-size=\"14.00\" text-anchor=\"middle\" x=\"286.5\" y=\"-838.3\">output:</text>\n<polyline fill=\"none\" points=\"315.5,-830.5 315.5,-876.5 \" stroke=\"#000000\"/>\n<text fill=\"#000000\" font-family=\"Times,serif\" font-size=\"14.00\" text-anchor=\"middle\" x=\"360\" y=\"-861.3\">[(None, 14)]</text>\n<polyline fill=\"none\" points=\"315.5,-853.5 404.5,-853.5 \" stroke=\"#000000\"/>\n<text fill=\"#000000\" font-family=\"Times,serif\" font-size=\"14.00\" text-anchor=\"middle\" x=\"360\" y=\"-838.3\">[(None, 14)]</text>\n</g>\n<!-- 139808947197264 -->\n<g class=\"node\" id=\"node3\">\n<title>139808947197264</title>\n<polygon fill=\"none\" points=\"198.5,-747.5 198.5,-793.5 516.5,-793.5 516.5,-747.5 198.5,-747.5\" stroke=\"#000000\"/>\n<text fill=\"#000000\" font-family=\"Times,serif\" font-size=\"14.00\" text-anchor=\"middle\" x=\"269\" y=\"-766.8\">sequential: Sequential</text>\n<polyline fill=\"none\" points=\"339.5,-747.5 339.5,-793.5 \" stroke=\"#000000\"/>\n<text fill=\"#000000\" font-family=\"Times,serif\" font-size=\"14.00\" text-anchor=\"middle\" x=\"368.5\" y=\"-778.3\">input:</text>\n<polyline fill=\"none\" points=\"339.5,-770.5 397.5,-770.5 \" stroke=\"#000000\"/>\n<text fill=\"#000000\" font-family=\"Times,serif\" font-size=\"14.00\" text-anchor=\"middle\" x=\"368.5\" y=\"-755.3\">output:</text>\n<polyline fill=\"none\" points=\"397.5,-747.5 397.5,-793.5 \" stroke=\"#000000\"/>\n<text fill=\"#000000\" font-family=\"Times,serif\" font-size=\"14.00\" text-anchor=\"middle\" x=\"457\" y=\"-778.3\">(None, None)</text>\n<polyline fill=\"none\" points=\"397.5,-770.5 516.5,-770.5 \" stroke=\"#000000\"/>\n<text fill=\"#000000\" font-family=\"Times,serif\" font-size=\"14.00\" text-anchor=\"middle\" x=\"457\" y=\"-755.3\">(None, None, 64)</text>\n</g>\n<!-- 139808947602656&#45;&gt;139808947197264 -->\n<g class=\"edge\" id=\"edge1\">\n<title>139808947602656-&gt;139808947197264</title>\n<path d=\"M290.4057,-830.3799C300.6989,-821.1935 312.6792,-810.5013 323.6444,-800.7152\" fill=\"none\" stroke=\"#000000\"/>\n<polygon fill=\"#000000\" points=\"326.2804,-803.0539 331.4107,-793.784 321.6194,-797.8313 326.2804,-803.0539\" stroke=\"#000000\"/>\n</g>\n<!-- 139808947237552 -->\n<g class=\"node\" id=\"node7\">\n<title>139808947237552</title>\n<polygon fill=\"none\" points=\"0,-664.5 0,-710.5 325,-710.5 325,-664.5 0,-664.5\" stroke=\"#000000\"/>\n<text fill=\"#000000\" font-family=\"Times,serif\" font-size=\"14.00\" text-anchor=\"middle\" x=\"78\" y=\"-683.8\">sequential_1: Sequential</text>\n<polyline fill=\"none\" points=\"156,-664.5 156,-710.5 \" stroke=\"#000000\"/>\n<text fill=\"#000000\" font-family=\"Times,serif\" font-size=\"14.00\" text-anchor=\"middle\" x=\"185\" y=\"-695.3\">input:</text>\n<polyline fill=\"none\" points=\"156,-687.5 214,-687.5 \" stroke=\"#000000\"/>\n<text fill=\"#000000\" font-family=\"Times,serif\" font-size=\"14.00\" text-anchor=\"middle\" x=\"185\" y=\"-672.3\">output:</text>\n<polyline fill=\"none\" points=\"214,-664.5 214,-710.5 \" stroke=\"#000000\"/>\n<text fill=\"#000000\" font-family=\"Times,serif\" font-size=\"14.00\" text-anchor=\"middle\" x=\"269.5\" y=\"-695.3\">(None, None)</text>\n<polyline fill=\"none\" points=\"214,-687.5 325,-687.5 \" stroke=\"#000000\"/>\n<text fill=\"#000000\" font-family=\"Times,serif\" font-size=\"14.00\" text-anchor=\"middle\" x=\"269.5\" y=\"-672.3\">(None, None, 4)</text>\n</g>\n<!-- 139808947602656&#45;&gt;139808947237552 -->\n<g class=\"edge\" id=\"edge6\">\n<title>139808947602656-&gt;139808947237552</title>\n<path d=\"M225.7284,-830.2633C212.4854,-820.5713 198.7085,-808.2342 189.5,-794 175.2786,-772.017 168.5455,-742.9902 165.359,-720.793\" fill=\"none\" stroke=\"#000000\"/>\n<polygon fill=\"#000000\" points=\"168.8242,-720.2971 164.0962,-710.8157 161.8796,-721.1761 168.8242,-720.2971\" stroke=\"#000000\"/>\n</g>\n<!-- 139808947602264 -->\n<g class=\"node\" id=\"node2\">\n<title>139808947602264</title>\n<polygon fill=\"none\" points=\"553.5,-830.5 553.5,-876.5 825.5,-876.5 825.5,-830.5 553.5,-830.5\" stroke=\"#000000\"/>\n<text fill=\"#000000\" font-family=\"Times,serif\" font-size=\"14.00\" text-anchor=\"middle\" x=\"620\" y=\"-849.8\">input_2: InputLayer</text>\n<polyline fill=\"none\" points=\"686.5,-830.5 686.5,-876.5 \" stroke=\"#000000\"/>\n<text fill=\"#000000\" font-family=\"Times,serif\" font-size=\"14.00\" text-anchor=\"middle\" x=\"715.5\" y=\"-861.3\">input:</text>\n<polyline fill=\"none\" points=\"686.5,-853.5 744.5,-853.5 \" stroke=\"#000000\"/>\n<text fill=\"#000000\" font-family=\"Times,serif\" font-size=\"14.00\" text-anchor=\"middle\" x=\"715.5\" y=\"-838.3\">output:</text>\n<polyline fill=\"none\" points=\"744.5,-830.5 744.5,-876.5 \" stroke=\"#000000\"/>\n<text fill=\"#000000\" font-family=\"Times,serif\" font-size=\"14.00\" text-anchor=\"middle\" x=\"785\" y=\"-861.3\">[(None, 4)]</text>\n<polyline fill=\"none\" points=\"744.5,-853.5 825.5,-853.5 \" stroke=\"#000000\"/>\n<text fill=\"#000000\" font-family=\"Times,serif\" font-size=\"14.00\" text-anchor=\"middle\" x=\"785\" y=\"-838.3\">[(None, 4)]</text>\n</g>\n<!-- 139808947273680 -->\n<g class=\"node\" id=\"node4\">\n<title>139808947273680</title>\n<polygon fill=\"none\" points=\"535,-747.5 535,-793.5 844,-793.5 844,-747.5 535,-747.5\" stroke=\"#000000\"/>\n<text fill=\"#000000\" font-family=\"Times,serif\" font-size=\"14.00\" text-anchor=\"middle\" x=\"613\" y=\"-766.8\">sequential_2: Sequential</text>\n<polyline fill=\"none\" points=\"691,-747.5 691,-793.5 \" stroke=\"#000000\"/>\n<text fill=\"#000000\" font-family=\"Times,serif\" font-size=\"14.00\" text-anchor=\"middle\" x=\"720\" y=\"-778.3\">input:</text>\n<polyline fill=\"none\" points=\"691,-770.5 749,-770.5 \" stroke=\"#000000\"/>\n<text fill=\"#000000\" font-family=\"Times,serif\" font-size=\"14.00\" text-anchor=\"middle\" x=\"720\" y=\"-755.3\">output:</text>\n<polyline fill=\"none\" points=\"749,-747.5 749,-793.5 \" stroke=\"#000000\"/>\n<text fill=\"#000000\" font-family=\"Times,serif\" font-size=\"14.00\" text-anchor=\"middle\" x=\"796.5\" y=\"-778.3\">(None, 4)</text>\n<polyline fill=\"none\" points=\"749,-770.5 844,-770.5 \" stroke=\"#000000\"/>\n<text fill=\"#000000\" font-family=\"Times,serif\" font-size=\"14.00\" text-anchor=\"middle\" x=\"796.5\" y=\"-755.3\">(None, 4, 64)</text>\n</g>\n<!-- 139808947602264&#45;&gt;139808947273680 -->\n<g class=\"edge\" id=\"edge2\">\n<title>139808947602264-&gt;139808947273680</title>\n<path d=\"M689.5,-830.3799C689.5,-822.1745 689.5,-812.7679 689.5,-803.8786\" fill=\"none\" stroke=\"#000000\"/>\n<polygon fill=\"#000000\" points=\"693.0001,-803.784 689.5,-793.784 686.0001,-803.784 693.0001,-803.784\" stroke=\"#000000\"/>\n</g>\n<!-- 139808947229024 -->\n<g class=\"node\" id=\"node5\">\n<title>139808947229024</title>\n<polygon fill=\"none\" points=\"343.5,-664.5 343.5,-710.5 663.5,-710.5 663.5,-664.5 343.5,-664.5\" stroke=\"#000000\"/>\n<text fill=\"#000000\" font-family=\"Times,serif\" font-size=\"14.00\" text-anchor=\"middle\" x=\"376\" y=\"-683.8\">dot: Dot</text>\n<polyline fill=\"none\" points=\"408.5,-664.5 408.5,-710.5 \" stroke=\"#000000\"/>\n<text fill=\"#000000\" font-family=\"Times,serif\" font-size=\"14.00\" text-anchor=\"middle\" x=\"437.5\" y=\"-695.3\">input:</text>\n<polyline fill=\"none\" points=\"408.5,-687.5 466.5,-687.5 \" stroke=\"#000000\"/>\n<text fill=\"#000000\" font-family=\"Times,serif\" font-size=\"14.00\" text-anchor=\"middle\" x=\"437.5\" y=\"-672.3\">output:</text>\n<polyline fill=\"none\" points=\"466.5,-664.5 466.5,-710.5 \" stroke=\"#000000\"/>\n<text fill=\"#000000\" font-family=\"Times,serif\" font-size=\"14.00\" text-anchor=\"middle\" x=\"565\" y=\"-695.3\">[(None, 14, 64), (None, 4, 64)]</text>\n<polyline fill=\"none\" points=\"466.5,-687.5 663.5,-687.5 \" stroke=\"#000000\"/>\n<text fill=\"#000000\" font-family=\"Times,serif\" font-size=\"14.00\" text-anchor=\"middle\" x=\"565\" y=\"-672.3\">(None, 14, 4)</text>\n</g>\n<!-- 139808947197264&#45;&gt;139808947229024 -->\n<g class=\"edge\" id=\"edge3\">\n<title>139808947197264-&gt;139808947229024</title>\n<path d=\"M398.1691,-747.3799C415.4991,-737.5279 435.8753,-725.9442 454.0651,-715.6034\" fill=\"none\" stroke=\"#000000\"/>\n<polygon fill=\"#000000\" points=\"455.8323,-718.6248 462.796,-710.6399 452.3728,-712.5394 455.8323,-718.6248\" stroke=\"#000000\"/>\n</g>\n<!-- 139808947273680&#45;&gt;139808947229024 -->\n<g class=\"edge\" id=\"edge4\">\n<title>139808947273680-&gt;139808947229024</title>\n<path d=\"M637.6886,-747.3799C615.0087,-737.2592 588.2331,-725.311 564.5891,-714.7602\" fill=\"none\" stroke=\"#000000\"/>\n<polygon fill=\"#000000\" points=\"565.9141,-711.5188 555.3558,-710.6399 563.0615,-717.9113 565.9141,-711.5188\" stroke=\"#000000\"/>\n</g>\n<!-- 139808947291080 -->\n<g class=\"node\" id=\"node10\">\n<title>139808947291080</title>\n<polygon fill=\"none\" points=\"394,-332.5 394,-378.5 801,-378.5 801,-332.5 394,-332.5\" stroke=\"#000000\"/>\n<text fill=\"#000000\" font-family=\"Times,serif\" font-size=\"14.00\" text-anchor=\"middle\" x=\"474\" y=\"-351.8\">concatenate: Concatenate</text>\n<polyline fill=\"none\" points=\"554,-332.5 554,-378.5 \" stroke=\"#000000\"/>\n<text fill=\"#000000\" font-family=\"Times,serif\" font-size=\"14.00\" text-anchor=\"middle\" x=\"583\" y=\"-363.3\">input:</text>\n<polyline fill=\"none\" points=\"554,-355.5 612,-355.5 \" stroke=\"#000000\"/>\n<text fill=\"#000000\" font-family=\"Times,serif\" font-size=\"14.00\" text-anchor=\"middle\" x=\"583\" y=\"-340.3\">output:</text>\n<polyline fill=\"none\" points=\"612,-332.5 612,-378.5 \" stroke=\"#000000\"/>\n<text fill=\"#000000\" font-family=\"Times,serif\" font-size=\"14.00\" text-anchor=\"middle\" x=\"706.5\" y=\"-363.3\">[(None, 4, 14), (None, 4, 64)]</text>\n<polyline fill=\"none\" points=\"612,-355.5 801,-355.5 \" stroke=\"#000000\"/>\n<text fill=\"#000000\" font-family=\"Times,serif\" font-size=\"14.00\" text-anchor=\"middle\" x=\"706.5\" y=\"-340.3\">(None, 4, 78)</text>\n</g>\n<!-- 139808947273680&#45;&gt;139808947291080 -->\n<g class=\"edge\" id=\"edge11\">\n<title>139808947273680-&gt;139808947291080</title>\n<path d=\"M689.9538,-747.4063C690.5439,-715.3403 691.5,-655.5141 691.5,-604.5 691.5,-604.5 691.5,-604.5 691.5,-521.5 691.5,-472.2022 686.2088,-457.0634 660.5,-415 653.9415,-404.2693 644.9487,-394.2023 635.8107,-385.5097\" fill=\"none\" stroke=\"#000000\"/>\n<polygon fill=\"#000000\" points=\"637.9048,-382.6833 628.1509,-378.5467 633.1963,-387.8631 637.9048,-382.6833\" stroke=\"#000000\"/>\n</g>\n<!-- 139808947338600 -->\n<g class=\"node\" id=\"node6\">\n<title>139808947338600</title>\n<polygon fill=\"none\" points=\"357.5,-581.5 357.5,-627.5 649.5,-627.5 649.5,-581.5 357.5,-581.5\" stroke=\"#000000\"/>\n<text fill=\"#000000\" font-family=\"Times,serif\" font-size=\"14.00\" text-anchor=\"middle\" x=\"427\" y=\"-600.8\">activation: Activation</text>\n<polyline fill=\"none\" points=\"496.5,-581.5 496.5,-627.5 \" stroke=\"#000000\"/>\n<text fill=\"#000000\" font-family=\"Times,serif\" font-size=\"14.00\" text-anchor=\"middle\" x=\"525.5\" y=\"-612.3\">input:</text>\n<polyline fill=\"none\" points=\"496.5,-604.5 554.5,-604.5 \" stroke=\"#000000\"/>\n<text fill=\"#000000\" font-family=\"Times,serif\" font-size=\"14.00\" text-anchor=\"middle\" x=\"525.5\" y=\"-589.3\">output:</text>\n<polyline fill=\"none\" points=\"554.5,-581.5 554.5,-627.5 \" stroke=\"#000000\"/>\n<text fill=\"#000000\" font-family=\"Times,serif\" font-size=\"14.00\" text-anchor=\"middle\" x=\"602\" y=\"-612.3\">(None, 14, 4)</text>\n<polyline fill=\"none\" points=\"554.5,-604.5 649.5,-604.5 \" stroke=\"#000000\"/>\n<text fill=\"#000000\" font-family=\"Times,serif\" font-size=\"14.00\" text-anchor=\"middle\" x=\"602\" y=\"-589.3\">(None, 14, 4)</text>\n</g>\n<!-- 139808947229024&#45;&gt;139808947338600 -->\n<g class=\"edge\" id=\"edge5\">\n<title>139808947229024-&gt;139808947338600</title>\n<path d=\"M503.5,-664.3799C503.5,-656.1745 503.5,-646.7679 503.5,-637.8786\" fill=\"none\" stroke=\"#000000\"/>\n<polygon fill=\"#000000\" points=\"507.0001,-637.784 503.5,-627.784 500.0001,-637.784 507.0001,-637.784\" stroke=\"#000000\"/>\n</g>\n<!-- 139808947351280 -->\n<g class=\"node\" id=\"node8\">\n<title>139808947351280</title>\n<polygon fill=\"none\" points=\"345,-498.5 345,-544.5 662,-544.5 662,-498.5 345,-498.5\" stroke=\"#000000\"/>\n<text fill=\"#000000\" font-family=\"Times,serif\" font-size=\"14.00\" text-anchor=\"middle\" x=\"380\" y=\"-517.8\">add: Add</text>\n<polyline fill=\"none\" points=\"415,-498.5 415,-544.5 \" stroke=\"#000000\"/>\n<text fill=\"#000000\" font-family=\"Times,serif\" font-size=\"14.00\" text-anchor=\"middle\" x=\"444\" y=\"-529.3\">input:</text>\n<polyline fill=\"none\" points=\"415,-521.5 473,-521.5 \" stroke=\"#000000\"/>\n<text fill=\"#000000\" font-family=\"Times,serif\" font-size=\"14.00\" text-anchor=\"middle\" x=\"444\" y=\"-506.3\">output:</text>\n<polyline fill=\"none\" points=\"473,-498.5 473,-544.5 \" stroke=\"#000000\"/>\n<text fill=\"#000000\" font-family=\"Times,serif\" font-size=\"14.00\" text-anchor=\"middle\" x=\"567.5\" y=\"-529.3\">[(None, 14, 4), (None, 14, 4)]</text>\n<polyline fill=\"none\" points=\"473,-521.5 662,-521.5 \" stroke=\"#000000\"/>\n<text fill=\"#000000\" font-family=\"Times,serif\" font-size=\"14.00\" text-anchor=\"middle\" x=\"567.5\" y=\"-506.3\">(None, 14, 4)</text>\n</g>\n<!-- 139808947338600&#45;&gt;139808947351280 -->\n<g class=\"edge\" id=\"edge7\">\n<title>139808947338600-&gt;139808947351280</title>\n<path d=\"M503.5,-581.3799C503.5,-573.1745 503.5,-563.7679 503.5,-554.8786\" fill=\"none\" stroke=\"#000000\"/>\n<polygon fill=\"#000000\" points=\"507.0001,-554.784 503.5,-544.784 500.0001,-554.784 507.0001,-554.784\" stroke=\"#000000\"/>\n</g>\n<!-- 139808947237552&#45;&gt;139808947351280 -->\n<g class=\"edge\" id=\"edge8\">\n<title>139808947237552-&gt;139808947351280</title>\n<path d=\"M199.0081,-664.361C235.8767,-641.5328 294.8854,-606.4552 348.5,-581 373.5514,-569.1061 401.6652,-557.7483 427.0015,-548.2037\" fill=\"none\" stroke=\"#000000\"/>\n<polygon fill=\"#000000\" points=\"428.4174,-551.4112 436.5636,-544.637 425.971,-544.8525 428.4174,-551.4112\" stroke=\"#000000\"/>\n</g>\n<!-- 139808947224760 -->\n<g class=\"node\" id=\"node9\">\n<title>139808947224760</title>\n<polygon fill=\"none\" points=\"380,-415.5 380,-461.5 651,-461.5 651,-415.5 380,-415.5\" stroke=\"#000000\"/>\n<text fill=\"#000000\" font-family=\"Times,serif\" font-size=\"14.00\" text-anchor=\"middle\" x=\"439\" y=\"-434.8\">permute: Permute</text>\n<polyline fill=\"none\" points=\"498,-415.5 498,-461.5 \" stroke=\"#000000\"/>\n<text fill=\"#000000\" font-family=\"Times,serif\" font-size=\"14.00\" text-anchor=\"middle\" x=\"527\" y=\"-446.3\">input:</text>\n<polyline fill=\"none\" points=\"498,-438.5 556,-438.5 \" stroke=\"#000000\"/>\n<text fill=\"#000000\" font-family=\"Times,serif\" font-size=\"14.00\" text-anchor=\"middle\" x=\"527\" y=\"-423.3\">output:</text>\n<polyline fill=\"none\" points=\"556,-415.5 556,-461.5 \" stroke=\"#000000\"/>\n<text fill=\"#000000\" font-family=\"Times,serif\" font-size=\"14.00\" text-anchor=\"middle\" x=\"603.5\" y=\"-446.3\">(None, 14, 4)</text>\n<polyline fill=\"none\" points=\"556,-438.5 651,-438.5 \" stroke=\"#000000\"/>\n<text fill=\"#000000\" font-family=\"Times,serif\" font-size=\"14.00\" text-anchor=\"middle\" x=\"603.5\" y=\"-423.3\">(None, 4, 14)</text>\n</g>\n<!-- 139808947351280&#45;&gt;139808947224760 -->\n<g class=\"edge\" id=\"edge9\">\n<title>139808947351280-&gt;139808947224760</title>\n<path d=\"M506.8427,-498.3799C508.029,-490.1745 509.389,-480.7679 510.6742,-471.8786\" fill=\"none\" stroke=\"#000000\"/>\n<polygon fill=\"#000000\" points=\"514.1666,-472.1819 512.1336,-461.784 507.2387,-471.1803 514.1666,-472.1819\" stroke=\"#000000\"/>\n</g>\n<!-- 139808947224760&#45;&gt;139808947291080 -->\n<g class=\"edge\" id=\"edge10\">\n<title>139808947224760-&gt;139808947291080</title>\n<path d=\"M538.3416,-415.3799C547.3292,-406.2827 557.7757,-395.7088 567.367,-386.0005\" fill=\"none\" stroke=\"#000000\"/>\n<polygon fill=\"#000000\" points=\"569.9582,-388.3577 574.4965,-378.784 564.9786,-383.438 569.9582,-388.3577\" stroke=\"#000000\"/>\n</g>\n<!-- 139808947349600 -->\n<g class=\"node\" id=\"node11\">\n<title>139808947349600</title>\n<polygon fill=\"none\" points=\"477.5,-249.5 477.5,-295.5 717.5,-295.5 717.5,-249.5 477.5,-249.5\" stroke=\"#000000\"/>\n<text fill=\"#000000\" font-family=\"Times,serif\" font-size=\"14.00\" text-anchor=\"middle\" x=\"521\" y=\"-268.8\">lstm: LSTM</text>\n<polyline fill=\"none\" points=\"564.5,-249.5 564.5,-295.5 \" stroke=\"#000000\"/>\n<text fill=\"#000000\" font-family=\"Times,serif\" font-size=\"14.00\" text-anchor=\"middle\" x=\"593.5\" y=\"-280.3\">input:</text>\n<polyline fill=\"none\" points=\"564.5,-272.5 622.5,-272.5 \" stroke=\"#000000\"/>\n<text fill=\"#000000\" font-family=\"Times,serif\" font-size=\"14.00\" text-anchor=\"middle\" x=\"593.5\" y=\"-257.3\">output:</text>\n<polyline fill=\"none\" points=\"622.5,-249.5 622.5,-295.5 \" stroke=\"#000000\"/>\n<text fill=\"#000000\" font-family=\"Times,serif\" font-size=\"14.00\" text-anchor=\"middle\" x=\"670\" y=\"-280.3\">(None, 4, 78)</text>\n<polyline fill=\"none\" points=\"622.5,-272.5 717.5,-272.5 \" stroke=\"#000000\"/>\n<text fill=\"#000000\" font-family=\"Times,serif\" font-size=\"14.00\" text-anchor=\"middle\" x=\"670\" y=\"-257.3\">(None, 32)</text>\n</g>\n<!-- 139808947291080&#45;&gt;139808947349600 -->\n<g class=\"edge\" id=\"edge12\">\n<title>139808947291080-&gt;139808947349600</title>\n<path d=\"M597.5,-332.3799C597.5,-324.1745 597.5,-314.7679 597.5,-305.8786\" fill=\"none\" stroke=\"#000000\"/>\n<polygon fill=\"#000000\" points=\"601.0001,-305.784 597.5,-295.784 594.0001,-305.784 601.0001,-305.784\" stroke=\"#000000\"/>\n</g>\n<!-- 139808947108888 -->\n<g class=\"node\" id=\"node12\">\n<title>139808947108888</title>\n<polygon fill=\"none\" points=\"461.5,-166.5 461.5,-212.5 733.5,-212.5 733.5,-166.5 461.5,-166.5\" stroke=\"#000000\"/>\n<text fill=\"#000000\" font-family=\"Times,serif\" font-size=\"14.00\" text-anchor=\"middle\" x=\"528.5\" y=\"-185.8\">dropout_3: Dropout</text>\n<polyline fill=\"none\" points=\"595.5,-166.5 595.5,-212.5 \" stroke=\"#000000\"/>\n<text fill=\"#000000\" font-family=\"Times,serif\" font-size=\"14.00\" text-anchor=\"middle\" x=\"624.5\" y=\"-197.3\">input:</text>\n<polyline fill=\"none\" points=\"595.5,-189.5 653.5,-189.5 \" stroke=\"#000000\"/>\n<text fill=\"#000000\" font-family=\"Times,serif\" font-size=\"14.00\" text-anchor=\"middle\" x=\"624.5\" y=\"-174.3\">output:</text>\n<polyline fill=\"none\" points=\"653.5,-166.5 653.5,-212.5 \" stroke=\"#000000\"/>\n<text fill=\"#000000\" font-family=\"Times,serif\" font-size=\"14.00\" text-anchor=\"middle\" x=\"693.5\" y=\"-197.3\">(None, 32)</text>\n<polyline fill=\"none\" points=\"653.5,-189.5 733.5,-189.5 \" stroke=\"#000000\"/>\n<text fill=\"#000000\" font-family=\"Times,serif\" font-size=\"14.00\" text-anchor=\"middle\" x=\"693.5\" y=\"-174.3\">(None, 32)</text>\n</g>\n<!-- 139808947349600&#45;&gt;139808947108888 -->\n<g class=\"edge\" id=\"edge13\">\n<title>139808947349600-&gt;139808947108888</title>\n<path d=\"M597.5,-249.3799C597.5,-241.1745 597.5,-231.7679 597.5,-222.8786\" fill=\"none\" stroke=\"#000000\"/>\n<polygon fill=\"#000000\" points=\"601.0001,-222.784 597.5,-212.784 594.0001,-222.784 601.0001,-222.784\" stroke=\"#000000\"/>\n</g>\n<!-- 139808947422544 -->\n<g class=\"node\" id=\"node13\">\n<title>139808947422544</title>\n<polygon fill=\"none\" points=\"482.5,-83.5 482.5,-129.5 712.5,-129.5 712.5,-83.5 482.5,-83.5\" stroke=\"#000000\"/>\n<text fill=\"#000000\" font-family=\"Times,serif\" font-size=\"14.00\" text-anchor=\"middle\" x=\"528.5\" y=\"-102.8\">dense: Dense</text>\n<polyline fill=\"none\" points=\"574.5,-83.5 574.5,-129.5 \" stroke=\"#000000\"/>\n<text fill=\"#000000\" font-family=\"Times,serif\" font-size=\"14.00\" text-anchor=\"middle\" x=\"603.5\" y=\"-114.3\">input:</text>\n<polyline fill=\"none\" points=\"574.5,-106.5 632.5,-106.5 \" stroke=\"#000000\"/>\n<text fill=\"#000000\" font-family=\"Times,serif\" font-size=\"14.00\" text-anchor=\"middle\" x=\"603.5\" y=\"-91.3\">output:</text>\n<polyline fill=\"none\" points=\"632.5,-83.5 632.5,-129.5 \" stroke=\"#000000\"/>\n<text fill=\"#000000\" font-family=\"Times,serif\" font-size=\"14.00\" text-anchor=\"middle\" x=\"672.5\" y=\"-114.3\">(None, 32)</text>\n<polyline fill=\"none\" points=\"632.5,-106.5 712.5,-106.5 \" stroke=\"#000000\"/>\n<text fill=\"#000000\" font-family=\"Times,serif\" font-size=\"14.00\" text-anchor=\"middle\" x=\"672.5\" y=\"-91.3\">(None, 22)</text>\n</g>\n<!-- 139808947108888&#45;&gt;139808947422544 -->\n<g class=\"edge\" id=\"edge14\">\n<title>139808947108888-&gt;139808947422544</title>\n<path d=\"M597.5,-166.3799C597.5,-158.1745 597.5,-148.7679 597.5,-139.8786\" fill=\"none\" stroke=\"#000000\"/>\n<polygon fill=\"#000000\" points=\"601.0001,-139.784 597.5,-129.784 594.0001,-139.784 601.0001,-139.784\" stroke=\"#000000\"/>\n</g>\n<!-- 139808946785416 -->\n<g class=\"node\" id=\"node14\">\n<title>139808946785416</title>\n<polygon fill=\"none\" points=\"451.5,-.5 451.5,-46.5 743.5,-46.5 743.5,-.5 451.5,-.5\" stroke=\"#000000\"/>\n<text fill=\"#000000\" font-family=\"Times,serif\" font-size=\"14.00\" text-anchor=\"middle\" x=\"528.5\" y=\"-19.8\">activation_1: Activation</text>\n<polyline fill=\"none\" points=\"605.5,-.5 605.5,-46.5 \" stroke=\"#000000\"/>\n<text fill=\"#000000\" font-family=\"Times,serif\" font-size=\"14.00\" text-anchor=\"middle\" x=\"634.5\" y=\"-31.3\">input:</text>\n<polyline fill=\"none\" points=\"605.5,-23.5 663.5,-23.5 \" stroke=\"#000000\"/>\n<text fill=\"#000000\" font-family=\"Times,serif\" font-size=\"14.00\" text-anchor=\"middle\" x=\"634.5\" y=\"-8.3\">output:</text>\n<polyline fill=\"none\" points=\"663.5,-.5 663.5,-46.5 \" stroke=\"#000000\"/>\n<text fill=\"#000000\" font-family=\"Times,serif\" font-size=\"14.00\" text-anchor=\"middle\" x=\"703.5\" y=\"-31.3\">(None, 22)</text>\n<polyline fill=\"none\" points=\"663.5,-23.5 743.5,-23.5 \" stroke=\"#000000\"/>\n<text fill=\"#000000\" font-family=\"Times,serif\" font-size=\"14.00\" text-anchor=\"middle\" x=\"703.5\" y=\"-8.3\">(None, 22)</text>\n</g>\n<!-- 139808947422544&#45;&gt;139808946785416 -->\n<g class=\"edge\" id=\"edge15\">\n<title>139808947422544-&gt;139808946785416</title>\n<path d=\"M597.5,-83.3799C597.5,-75.1745 597.5,-65.7679 597.5,-56.8786\" fill=\"none\" stroke=\"#000000\"/>\n<polygon fill=\"#000000\" points=\"601.0001,-56.784 597.5,-46.784 594.0001,-56.784 601.0001,-56.784\" stroke=\"#000000\"/>\n</g>\n</g>\n</svg>"
          },
          "metadata": {
            "tags": []
          },
          "execution_count": 20
        }
      ]
    },
    {
      "cell_type": "markdown",
      "metadata": {
        "id": "BxK-MxYMrKkI"
      },
      "source": [
        "Model summary"
      ]
    },
    {
      "cell_type": "code",
      "metadata": {
        "id": "bjEgTL9LrKkJ",
        "colab": {
          "base_uri": "https://localhost:8080/"
        },
        "outputId": "1756eecb-a216-4172-945a-4281f698dcba"
      },
      "source": [
        "model.summary()"
      ],
      "execution_count": null,
      "outputs": [
        {
          "output_type": "stream",
          "name": "stdout",
          "text": [
            "Model: \"model_3\"\n",
            "__________________________________________________________________________________________________\n",
            " Layer (type)                   Output Shape         Param #     Connected to                     \n",
            "==================================================================================================\n",
            " input_15 (InputLayer)          [(None, 14)]         0           []                               \n",
            "                                                                                                  \n",
            " input_16 (InputLayer)          [(None, 4)]          0           []                               \n",
            "                                                                                                  \n",
            " sequential_21 (Sequential)     (None, None, 64)     1408        ['input_15[0][0]']               \n",
            "                                                                                                  \n",
            " sequential_22 (Sequential)     (None, None, 64)     1408        ['input_16[0][0]']               \n",
            "                                                                                                  \n",
            " dot_3 (Dot)                    (None, 14, 4)        0           ['sequential_21[0][0]',          \n",
            "                                                                  'sequential_22[0][0]']          \n",
            "                                                                                                  \n",
            " activation_2 (Activation)      (None, 14, 4)        0           ['dot_3[0][0]']                  \n",
            "                                                                                                  \n",
            " sequential_23 (Sequential)     (None, None, 4)      88          ['input_15[0][0]']               \n",
            "                                                                                                  \n",
            " add_1 (Add)                    (None, 14, 4)        0           ['activation_2[0][0]',           \n",
            "                                                                  'sequential_23[0][0]']          \n",
            "                                                                                                  \n",
            " permute_1 (Permute)            (None, 4, 14)        0           ['add_1[0][0]']                  \n",
            "                                                                                                  \n",
            " concatenate_1 (Concatenate)    (None, 4, 78)        0           ['permute_1[0][0]',              \n",
            "                                                                  'sequential_22[0][0]']          \n",
            "                                                                                                  \n",
            " lstm_1 (LSTM)                  (None, 64)           36608       ['concatenate_1[0][0]']          \n",
            "                                                                                                  \n",
            " dropout_1 (Dropout)            (None, 64)           0           ['lstm_1[0][0]']                 \n",
            "                                                                                                  \n",
            " dense_1 (Dense)                (None, 22)           1430        ['dropout_1[0][0]']              \n",
            "                                                                                                  \n",
            " activation_3 (Activation)      (None, 22)           0           ['dense_1[0][0]']                \n",
            "                                                                                                  \n",
            "==================================================================================================\n",
            "Total params: 40,942\n",
            "Trainable params: 40,942\n",
            "Non-trainable params: 0\n",
            "__________________________________________________________________________________________________\n"
          ]
        }
      ]
    },
    {
      "cell_type": "markdown",
      "metadata": {
        "id": "_tnbz5YJrKkQ"
      },
      "source": [
        "## 1.5 Training"
      ]
    },
    {
      "cell_type": "markdown",
      "metadata": {
        "id": "W_bUUHq-A8Us"
      },
      "source": [
        "In this section we start the training procedure with fitting the data to the designed model."
      ]
    },
    {
      "cell_type": "code",
      "source": [
        "history = model.fit([inputs_train, queries_train], answers_train, batch_size, train_epochs,\n",
        "          validation_data=([inputs_test, queries_test], answers_test))\n",
        "\n",
        "plot_loss(history,\"Loss\")\n",
        "plot_acc(history,\"Accuracy\")\n",
        "\n",
        "model.save('model.h5')"
      ],
      "metadata": {
        "id": "c3sOGkotZKmk",
        "colab": {
          "base_uri": "https://localhost:8080/",
          "height": 1000
        },
        "outputId": "8907ebe3-fe73-474d-f001-2e8398cfe62a"
      },
      "execution_count": null,
      "outputs": [
        {
          "output_type": "stream",
          "name": "stdout",
          "text": [
            "Epoch 1/10\n",
            "  2/313 [..............................] - ETA: 16s - loss: 1.6318 - accuracy: 0.4062"
          ]
        },
        {
          "output_type": "stream",
          "name": "stderr",
          "text": [
            "/usr/local/lib/python3.7/dist-packages/tensorflow/python/data/ops/dataset_ops.py:4527: UserWarning: Even though the `tf.config.experimental_run_functions_eagerly` option is set, this option does not apply to tf.data functions. To force eager execution of tf.data functions, please use `tf.data.experimental.enable_debug_mode()`.\n",
            "  \"Even though the `tf.config.experimental_run_functions_eagerly` \"\n"
          ]
        },
        {
          "output_type": "stream",
          "name": "stdout",
          "text": [
            "313/313 [==============================] - 17s 55ms/step - loss: 1.7492 - accuracy: 0.2701 - val_loss: 1.7440 - val_accuracy: 0.2850\n",
            "Epoch 2/10\n",
            "313/313 [==============================] - 17s 56ms/step - loss: 1.7464 - accuracy: 0.2734 - val_loss: 1.7403 - val_accuracy: 0.3090\n",
            "Epoch 3/10\n",
            "313/313 [==============================] - 17s 56ms/step - loss: 1.7437 - accuracy: 0.2825 - val_loss: 1.7354 - val_accuracy: 0.3060\n",
            "Epoch 4/10\n",
            "313/313 [==============================] - 18s 56ms/step - loss: 1.7391 - accuracy: 0.2843 - val_loss: 1.7319 - val_accuracy: 0.3120\n",
            "Epoch 5/10\n",
            "313/313 [==============================] - 18s 58ms/step - loss: 1.7363 - accuracy: 0.2868 - val_loss: 1.7257 - val_accuracy: 0.3050\n",
            "Epoch 6/10\n",
            "313/313 [==============================] - 17s 56ms/step - loss: 1.7351 - accuracy: 0.2882 - val_loss: 1.7253 - val_accuracy: 0.3090\n",
            "Epoch 7/10\n",
            "313/313 [==============================] - 18s 56ms/step - loss: 1.7294 - accuracy: 0.2927 - val_loss: 1.7185 - val_accuracy: 0.3160\n",
            "Epoch 8/10\n",
            "313/313 [==============================] - 17s 56ms/step - loss: 1.7263 - accuracy: 0.2974 - val_loss: 1.7198 - val_accuracy: 0.3130\n",
            "Epoch 9/10\n",
            "313/313 [==============================] - 18s 57ms/step - loss: 1.7232 - accuracy: 0.2956 - val_loss: 1.7227 - val_accuracy: 0.3170\n",
            "Epoch 10/10\n",
            "313/313 [==============================] - 17s 55ms/step - loss: 1.7196 - accuracy: 0.2962 - val_loss: 1.7181 - val_accuracy: 0.3200\n"
          ]
        },
        {
          "output_type": "display_data",
          "data": {
            "image/png": "[encoded data removed]",
            "text/plain": [
              "<Figure size 432x288 with 1 Axes>"
            ]
          },
          "metadata": {
            "needs_background": "light"
          }
        },
        {
          "output_type": "display_data",
          "data": {
            "image/png": "[encoded data removed]",
            "text/plain": [
              "<Figure size 432x288 with 1 Axes>"
            ]
          },
          "metadata": {
            "needs_background": "light"
          }
        },
        {
          "output_type": "stream",
          "name": "stderr",
          "text": [
            "/usr/local/lib/python3.7/dist-packages/keras/engine/functional.py:1410: CustomMaskWarning: Custom mask layers require a config and must override get_config. When loading, the custom mask layer must be passed to the custom_objects argument.\n",
            "  layer_config = serialize_layer_fn(layer)\n"
          ]
        }
      ]
    },
    {
      "cell_type": "markdown",
      "metadata": {
        "id": "GXxhXOvcrKkV"
      },
      "source": [
        "## 1.6 Testing and Analysis"
      ]
    },
    {
      "cell_type": "markdown",
      "metadata": {
        "id": "ciBt077dEBLd"
      },
      "source": [
        "Now we need to actually make predictions and check the performance of our trained model with some examples:"
      ]
    },
    {
      "cell_type": "code",
      "metadata": {
        "id": "a4b3f5-arKkW",
        "colab": {
          "base_uri": "https://localhost:8080/"
        },
        "outputId": "8543d3bf-009f-4ffd-f9f6-7d4dea622c7f"
      },
      "source": [
        "for i in range(0,10):\n",
        "    current_inp = test_stories[2*i]\n",
        "    current_story, current_query, current_answer = vectorize_stories([current_inp], word_idx, story_maxlen, query_maxlen)\n",
        "    current_prediction = model.predict([current_story, current_query])\n",
        "    current_prediction = idx_word[np.argmax(current_prediction)]\n",
        "    print(' '.join(current_inp[0]), ' '.join(current_inp[1]), '| Prediction:', current_prediction, '| Ground Truth:', current_inp[2])\n",
        "    print(\"-----------------------------------------------------------------------------------------\")\n"
      ],
      "execution_count": null,
      "outputs": [
        {
          "output_type": "stream",
          "name": "stderr",
          "text": [
            "/usr/local/lib/python3.7/dist-packages/tensorflow/python/data/ops/dataset_ops.py:4527: UserWarning: Even though the `tf.config.experimental_run_functions_eagerly` option is set, this option does not apply to tf.data functions. To force eager execution of tf.data functions, please use `tf.data.experimental.enable_debug_mode()`.\n",
            "  \"Even though the `tf.config.experimental_run_functions_eagerly` \"\n"
          ]
        },
        {
          "output_type": "stream",
          "name": "stdout",
          "text": [
            "John travelled to the hallway . Mary journeyed to the bathroom . Where is John ? | Prediction: bathroom | Ground Truth: hallway\n",
            "-----------------------------------------------------------------------------------------\n",
            "John travelled to the hallway . Mary journeyed to the bathroom . Where is Sandra ? | Prediction: bathroom | Ground Truth: kitchen\n",
            "-----------------------------------------------------------------------------------------\n",
            "John travelled to the hallway . Mary journeyed to the bathroom . Where is Sandra ? | Prediction: bathroom | Ground Truth: kitchen\n",
            "-----------------------------------------------------------------------------------------\n",
            "Sandra travelled to the kitchen . Sandra travelled to the hallway . Where is Sandra ? | Prediction: hallway | Ground Truth: garden\n",
            "-----------------------------------------------------------------------------------------\n",
            "Sandra travelled to the kitchen . Sandra travelled to the hallway . Where is Sandra ? | Prediction: hallway | Ground Truth: office\n",
            "-----------------------------------------------------------------------------------------\n",
            "John travelled to the office . Mary journeyed to the kitchen . Where is Mary ? | Prediction: kitchen | Ground Truth: kitchen\n",
            "-----------------------------------------------------------------------------------------\n",
            "John travelled to the office . Mary journeyed to the kitchen . Where is Daniel ? | Prediction: kitchen | Ground Truth: office\n",
            "-----------------------------------------------------------------------------------------\n",
            "John travelled to the office . Mary journeyed to the kitchen . Where is Mary ? | Prediction: kitchen | Ground Truth: bedroom\n",
            "-----------------------------------------------------------------------------------------\n",
            "John moved to the hallway . John journeyed to the kitchen . Where is John ? | Prediction: kitchen | Ground Truth: garden\n",
            "-----------------------------------------------------------------------------------------\n",
            "John moved to the hallway . John journeyed to the kitchen . Where is Daniel ? | Prediction: kitchen | Ground Truth: office\n",
            "-----------------------------------------------------------------------------------------\n"
          ]
        }
      ]
    },
    {
      "cell_type": "markdown",
      "metadata": {
        "collapsed": true,
        "id": "DWGbl4PdrKka"
      },
      "source": [
        "## 1.7 Custom Inputs"
      ]
    },
    {
      "cell_type": "markdown",
      "metadata": {
        "id": "iJUI2SIXEV4x"
      },
      "source": [
        "You can even write your example and test it with your model to see how powerful it is:"
      ]
    },
    {
      "cell_type": "code",
      "metadata": {
        "id": "UT83MJ8yrKkb",
        "colab": {
          "base_uri": "https://localhost:8080/",
          "height": 782
        },
        "outputId": "1019fa1f-06b6-45f0-fcca-980cfdde6068"
      },
      "source": [
        "print('-------------------------------------------------------------------------------------------')\n",
        "print('Custom User Queries (Make sure there are spaces before each word)')\n",
        "while 1:\n",
        "    print('-------------------------------------------------------------------------------------------')\n",
        "    print('Please input a story')\n",
        "    user_story_inp = input().split(' ')\n",
        "    print('Please input a query')\n",
        "    user_query_inp = input().split(' ')\n",
        "    user_story, user_query, user_ans = vectorize_stories([[user_story_inp, user_query_inp, '.']], word_idx, story_maxlen, query_maxlen)\n",
        "    user_prediction = model.predict([user_story, user_query])\n",
        "    user_prediction = idx_word[np.argmax(user_prediction)]\n",
        "    print('Result')\n",
        "    print(' '.join(user_story_inp), ' '.join(user_query_inp), '| Prediction:', user_prediction)"
      ],
      "execution_count": null,
      "outputs": [
        {
          "name": "stdout",
          "output_type": "stream",
          "text": [
            "-------------------------------------------------------------------------------------------\n",
            "Custom User Queries (Make sure there are spaces before each word)\n",
            "-------------------------------------------------------------------------------------------\n",
            "Please input a story\n",
            "John moved to the hallway . Mary travelled to the office .\n",
            "Please input a query\n",
            "Where is Mary ?\n"
          ]
        },
        {
          "output_type": "stream",
          "name": "stderr",
          "text": [
            "/usr/local/lib/python3.7/dist-packages/tensorflow/python/data/ops/dataset_ops.py:4527: UserWarning: Even though the `tf.config.experimental_run_functions_eagerly` option is set, this option does not apply to tf.data functions. To force eager execution of tf.data functions, please use `tf.data.experimental.enable_debug_mode()`.\n",
            "  \"Even though the `tf.config.experimental_run_functions_eagerly` \"\n"
          ]
        },
        {
          "output_type": "stream",
          "name": "stdout",
          "text": [
            "Result\n",
            "John moved to the hallway . Mary travelled to the office . Where is Mary ? | Prediction: office\n",
            "-------------------------------------------------------------------------------------------\n",
            "Please input a story\n"
          ]
        },
        {
          "output_type": "error",
          "ename": "KeyboardInterrupt",
          "evalue": "ignored",
          "traceback": [
            "\u001b[0;31m---------------------------------------------------------------------------\u001b[0m",
            "\u001b[0;31mKeyboardInterrupt\u001b[0m                         Traceback (most recent call last)",
            "\u001b[0;32m/usr/local/lib/python3.7/dist-packages/ipykernel/kernelbase.py\u001b[0m in \u001b[0;36m_input_request\u001b[0;34m(self, prompt, ident, parent, password)\u001b[0m\n\u001b[1;32m    728\u001b[0m             \u001b[0;32mtry\u001b[0m\u001b[0;34m:\u001b[0m\u001b[0;34m\u001b[0m\u001b[0;34m\u001b[0m\u001b[0m\n\u001b[0;32m--> 729\u001b[0;31m                 \u001b[0mident\u001b[0m\u001b[0;34m,\u001b[0m \u001b[0mreply\u001b[0m \u001b[0;34m=\u001b[0m \u001b[0mself\u001b[0m\u001b[0;34m.\u001b[0m\u001b[0msession\u001b[0m\u001b[0;34m.\u001b[0m\u001b[0mrecv\u001b[0m\u001b[0;34m(\u001b[0m\u001b[0mself\u001b[0m\u001b[0;34m.\u001b[0m\u001b[0mstdin_socket\u001b[0m\u001b[0;34m,\u001b[0m \u001b[0;36m0\u001b[0m\u001b[0;34m)\u001b[0m\u001b[0;34m\u001b[0m\u001b[0;34m\u001b[0m\u001b[0m\n\u001b[0m\u001b[1;32m    730\u001b[0m             \u001b[0;32mexcept\u001b[0m \u001b[0mException\u001b[0m\u001b[0;34m:\u001b[0m\u001b[0;34m\u001b[0m\u001b[0;34m\u001b[0m\u001b[0m\n",
            "\u001b[0;32m/usr/local/lib/python3.7/dist-packages/jupyter_client/session.py\u001b[0m in \u001b[0;36mrecv\u001b[0;34m(self, socket, mode, content, copy)\u001b[0m\n\u001b[1;32m    802\u001b[0m         \u001b[0;32mtry\u001b[0m\u001b[0;34m:\u001b[0m\u001b[0;34m\u001b[0m\u001b[0;34m\u001b[0m\u001b[0m\n\u001b[0;32m--> 803\u001b[0;31m             \u001b[0mmsg_list\u001b[0m \u001b[0;34m=\u001b[0m \u001b[0msocket\u001b[0m\u001b[0;34m.\u001b[0m\u001b[0mrecv_multipart\u001b[0m\u001b[0;34m(\u001b[0m\u001b[0mmode\u001b[0m\u001b[0;34m,\u001b[0m \u001b[0mcopy\u001b[0m\u001b[0;34m=\u001b[0m\u001b[0mcopy\u001b[0m\u001b[0;34m)\u001b[0m\u001b[0;34m\u001b[0m\u001b[0;34m\u001b[0m\u001b[0m\n\u001b[0m\u001b[1;32m    804\u001b[0m         \u001b[0;32mexcept\u001b[0m \u001b[0mzmq\u001b[0m\u001b[0;34m.\u001b[0m\u001b[0mZMQError\u001b[0m \u001b[0;32mas\u001b[0m \u001b[0me\u001b[0m\u001b[0;34m:\u001b[0m\u001b[0;34m\u001b[0m\u001b[0;34m\u001b[0m\u001b[0m\n",
            "\u001b[0;32m/usr/local/lib/python3.7/dist-packages/zmq/sugar/socket.py\u001b[0m in \u001b[0;36mrecv_multipart\u001b[0;34m(self, flags, copy, track)\u001b[0m\n\u001b[1;32m    624\u001b[0m         \"\"\"\n\u001b[0;32m--> 625\u001b[0;31m         \u001b[0mparts\u001b[0m \u001b[0;34m=\u001b[0m \u001b[0;34m[\u001b[0m\u001b[0mself\u001b[0m\u001b[0;34m.\u001b[0m\u001b[0mrecv\u001b[0m\u001b[0;34m(\u001b[0m\u001b[0mflags\u001b[0m\u001b[0;34m,\u001b[0m \u001b[0mcopy\u001b[0m\u001b[0;34m=\u001b[0m\u001b[0mcopy\u001b[0m\u001b[0;34m,\u001b[0m \u001b[0mtrack\u001b[0m\u001b[0;34m=\u001b[0m\u001b[0mtrack\u001b[0m\u001b[0;34m)\u001b[0m\u001b[0;34m]\u001b[0m\u001b[0;34m\u001b[0m\u001b[0;34m\u001b[0m\u001b[0m\n\u001b[0m\u001b[1;32m    626\u001b[0m         \u001b[0;31m# have first part already, only loop while more to receive\u001b[0m\u001b[0;34m\u001b[0m\u001b[0;34m\u001b[0m\u001b[0;34m\u001b[0m\u001b[0m\n",
            "\u001b[0;32mzmq/backend/cython/socket.pyx\u001b[0m in \u001b[0;36mzmq.backend.cython.socket.Socket.recv\u001b[0;34m()\u001b[0m\n",
            "\u001b[0;32mzmq/backend/cython/socket.pyx\u001b[0m in \u001b[0;36mzmq.backend.cython.socket.Socket.recv\u001b[0;34m()\u001b[0m\n",
            "\u001b[0;32mzmq/backend/cython/socket.pyx\u001b[0m in \u001b[0;36mzmq.backend.cython.socket._recv_copy\u001b[0;34m()\u001b[0m\n",
            "\u001b[0;32m/usr/local/lib/python3.7/dist-packages/zmq/backend/cython/checkrc.pxd\u001b[0m in \u001b[0;36mzmq.backend.cython.checkrc._check_rc\u001b[0;34m()\u001b[0m\n",
            "\u001b[0;31mKeyboardInterrupt\u001b[0m: ",
            "\nDuring handling of the above exception, another exception occurred:\n",
            "\u001b[0;31mKeyboardInterrupt\u001b[0m                         Traceback (most recent call last)",
            "\u001b[0;32m<ipython-input-81-cd5b1d8fbfdb>\u001b[0m in \u001b[0;36m<module>\u001b[0;34m()\u001b[0m\n\u001b[1;32m      4\u001b[0m     \u001b[0mprint\u001b[0m\u001b[0;34m(\u001b[0m\u001b[0;34m'-------------------------------------------------------------------------------------------'\u001b[0m\u001b[0;34m)\u001b[0m\u001b[0;34m\u001b[0m\u001b[0;34m\u001b[0m\u001b[0m\n\u001b[1;32m      5\u001b[0m     \u001b[0mprint\u001b[0m\u001b[0;34m(\u001b[0m\u001b[0;34m'Please input a story'\u001b[0m\u001b[0;34m)\u001b[0m\u001b[0;34m\u001b[0m\u001b[0;34m\u001b[0m\u001b[0m\n\u001b[0;32m----> 6\u001b[0;31m     \u001b[0muser_story_inp\u001b[0m \u001b[0;34m=\u001b[0m \u001b[0minput\u001b[0m\u001b[0;34m(\u001b[0m\u001b[0;34m)\u001b[0m\u001b[0;34m.\u001b[0m\u001b[0msplit\u001b[0m\u001b[0;34m(\u001b[0m\u001b[0;34m' '\u001b[0m\u001b[0;34m)\u001b[0m\u001b[0;34m\u001b[0m\u001b[0;34m\u001b[0m\u001b[0m\n\u001b[0m\u001b[1;32m      7\u001b[0m     \u001b[0mprint\u001b[0m\u001b[0;34m(\u001b[0m\u001b[0;34m'Please input a query'\u001b[0m\u001b[0;34m)\u001b[0m\u001b[0;34m\u001b[0m\u001b[0;34m\u001b[0m\u001b[0m\n\u001b[1;32m      8\u001b[0m     \u001b[0muser_query_inp\u001b[0m \u001b[0;34m=\u001b[0m \u001b[0minput\u001b[0m\u001b[0;34m(\u001b[0m\u001b[0;34m)\u001b[0m\u001b[0;34m.\u001b[0m\u001b[0msplit\u001b[0m\u001b[0;34m(\u001b[0m\u001b[0;34m' '\u001b[0m\u001b[0;34m)\u001b[0m\u001b[0;34m\u001b[0m\u001b[0;34m\u001b[0m\u001b[0m\n",
            "\u001b[0;32m/usr/local/lib/python3.7/dist-packages/ipykernel/kernelbase.py\u001b[0m in \u001b[0;36mraw_input\u001b[0;34m(self, prompt)\u001b[0m\n\u001b[1;32m    702\u001b[0m             \u001b[0mself\u001b[0m\u001b[0;34m.\u001b[0m\u001b[0m_parent_ident\u001b[0m\u001b[0;34m,\u001b[0m\u001b[0;34m\u001b[0m\u001b[0;34m\u001b[0m\u001b[0m\n\u001b[1;32m    703\u001b[0m             \u001b[0mself\u001b[0m\u001b[0;34m.\u001b[0m\u001b[0m_parent_header\u001b[0m\u001b[0;34m,\u001b[0m\u001b[0;34m\u001b[0m\u001b[0;34m\u001b[0m\u001b[0m\n\u001b[0;32m--> 704\u001b[0;31m             \u001b[0mpassword\u001b[0m\u001b[0;34m=\u001b[0m\u001b[0;32mFalse\u001b[0m\u001b[0;34m,\u001b[0m\u001b[0;34m\u001b[0m\u001b[0;34m\u001b[0m\u001b[0m\n\u001b[0m\u001b[1;32m    705\u001b[0m         )\n\u001b[1;32m    706\u001b[0m \u001b[0;34m\u001b[0m\u001b[0m\n",
            "\u001b[0;32m/usr/local/lib/python3.7/dist-packages/ipykernel/kernelbase.py\u001b[0m in \u001b[0;36m_input_request\u001b[0;34m(self, prompt, ident, parent, password)\u001b[0m\n\u001b[1;32m    732\u001b[0m             \u001b[0;32mexcept\u001b[0m \u001b[0mKeyboardInterrupt\u001b[0m\u001b[0;34m:\u001b[0m\u001b[0;34m\u001b[0m\u001b[0;34m\u001b[0m\u001b[0m\n\u001b[1;32m    733\u001b[0m                 \u001b[0;31m# re-raise KeyboardInterrupt, to truncate traceback\u001b[0m\u001b[0;34m\u001b[0m\u001b[0;34m\u001b[0m\u001b[0;34m\u001b[0m\u001b[0m\n\u001b[0;32m--> 734\u001b[0;31m                 \u001b[0;32mraise\u001b[0m \u001b[0mKeyboardInterrupt\u001b[0m\u001b[0;34m\u001b[0m\u001b[0;34m\u001b[0m\u001b[0m\n\u001b[0m\u001b[1;32m    735\u001b[0m             \u001b[0;32melse\u001b[0m\u001b[0;34m:\u001b[0m\u001b[0;34m\u001b[0m\u001b[0;34m\u001b[0m\u001b[0m\n\u001b[1;32m    736\u001b[0m                 \u001b[0;32mbreak\u001b[0m\u001b[0;34m\u001b[0m\u001b[0;34m\u001b[0m\u001b[0m\n",
            "\u001b[0;31mKeyboardInterrupt\u001b[0m: "
          ]
        }
      ]
    },
    {
      "cell_type": "code",
      "metadata": {
        "id": "id1unEEQrKkf"
      },
      "source": [
        "# some examples:\n",
        "# Mary went to the bathroom . John moved to the hallway . Mary travelled to the office . # Where is Mary ?\n",
        "# Sandra travelled to the office . John journeyed to the garden ."
      ],
      "execution_count": null,
      "outputs": []
    },
    {
      "cell_type": "markdown",
      "metadata": {
        "id": "ZtYRcM2KE4te"
      },
      "source": [
        "As you understood how the model trained, please tell us about the pros and cons of the proposed model. How can we improve it if we want to use it in realistic task ? "
      ]
    },
    {
      "cell_type": "markdown",
      "metadata": {
        "id": "p9NiIbN5F7zb"
      },
      "source": [
        "$\\color{red}{\\text{Write your answer in document}}$\n",
        "\n"
      ]
    },
    {
      "cell_type": "markdown",
      "metadata": {
        "id": "OFKXfqrgQfQm"
      },
      "source": [
        "#  2. Hands on SSL"
      ]
    },
    {
      "cell_type": "code",
      "source": [
        "import cv2\n",
        "import numpy as np\n",
        "from matplotlib import pyplot as plt\n",
        "from tensorflow import keras"
      ],
      "metadata": {
        "id": "0WP9j6u6hADR"
      },
      "execution_count": 1,
      "outputs": []
    },
    {
      "cell_type": "markdown",
      "metadata": {
        "id": "h7UbcqmKUZ1q"
      },
      "source": [
        "## 2.1 prepare data"
      ]
    },
    {
      "cell_type": "code",
      "source": [
        "(x_train, y_train), (x_test, y_test) = keras.datasets.cifar10.load_data()"
      ],
      "metadata": {
        "id": "RDOwLbCAjENO",
        "colab": {
          "base_uri": "https://localhost:8080/"
        },
        "outputId": "f8c546ab-b04d-4858-f155-56eaa082d870"
      },
      "execution_count": 2,
      "outputs": [
        {
          "output_type": "stream",
          "name": "stdout",
          "text": [
            "Downloading data from https://www.cs.toronto.edu/~kriz/cifar-10-python.tar.gz\n",
            "170500096/170498071 [==============================] - 2s 0us/step\n",
            "170508288/170498071 [==============================] - 2s 0us/step\n"
          ]
        }
      ]
    },
    {
      "cell_type": "code",
      "source": [
        "unlabeld_index = np.ones(y_train.shape, np.bool)\n",
        "\n",
        "N = 20\n",
        "for i in range(10):\n",
        "  idx = np.where(y_train == i)[0][:N]\n",
        "  unlabeld_index[idx] = 0"
      ],
      "metadata": {
        "id": "_GMQmFwajGW4"
      },
      "execution_count": 3,
      "outputs": []
    },
    {
      "cell_type": "code",
      "source": [
        "x_unlabeld = x_train[np.where(unlabeld_index)[0], ...]\n",
        "\n",
        "x_train = x_train[np.where(~unlabeld_index)[0], ...]\n",
        "y_train = y_train[np.where(~unlabeld_index)[0], ...]"
      ],
      "metadata": {
        "id": "cBwOJ5sJjJOm"
      },
      "execution_count": 4,
      "outputs": []
    },
    {
      "cell_type": "code",
      "source": [
        "# examples of categorical crossentropy\n",
        "cce = keras.losses.CategoricalCrossentropy()\n",
        "\n",
        "# a labeled data from the second class\n",
        "y_true = [[0, 1, 0, 0]]\n",
        "y_pred = [[0.05, 0.95, 0, 0]]\n",
        "print(cce(y_true, y_pred).numpy())\n",
        "\n",
        "# an ulabeled data\n",
        "y_true = [[0, 0, 0, 0]]\n",
        "y_pred = [[0.05, 0.95, 0, 0]]\n",
        "print(cce(y_true, y_pred).numpy())\n",
        "\n",
        "# another ulabeled data\n",
        "y_true = [[0, 0, 0, 0]]\n",
        "y_pred = [[0.1, 0.4, 0.3, 0.2]]\n",
        "print(cce(y_true, y_pred).numpy())"
      ],
      "metadata": {
        "id": "B4R5nnKejLF2",
        "colab": {
          "base_uri": "https://localhost:8080/"
        },
        "outputId": "fa6778cd-94d5-4a0a-f14b-b26f0f0f6c8a"
      },
      "execution_count": 5,
      "outputs": [
        {
          "output_type": "stream",
          "name": "stdout",
          "text": [
            "0.051293306\n",
            "0.0\n",
            "0.0\n"
          ]
        }
      ]
    },
    {
      "cell_type": "code",
      "source": [
        ""
      ],
      "metadata": {
        "id": "Ef9ohVc3Qyoa"
      },
      "execution_count": null,
      "outputs": []
    }
  ]
}