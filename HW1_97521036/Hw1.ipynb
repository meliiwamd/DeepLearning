{
  "nbformat": 4,
  "nbformat_minor": 0,
  "metadata": {
    "colab": {
      "name": "Untitled0.ipynb",
      "provenance": [],
      "collapsed_sections": [
        "b_v9bQNl5aXD"
      ]
    },
    "kernelspec": {
      "name": "python3",
      "display_name": "Python 3"
    },
    "language_info": {
      "name": "python"
    }
  },
  "cells": [
    {
      "cell_type": "markdown",
      "metadata": {
        "id": "gpmgvQXi1S6E"
      },
      "source": [
        "Melika Ahmadi Ranjbar 97521036\n",
        "\n",
        "---\n",
        "Homework 1\n"
      ]
    },
    {
      "cell_type": "markdown",
      "metadata": {
        "id": "b_v9bQNl5aXD"
      },
      "source": [
        "# Question 3\n"
      ]
    },
    {
      "cell_type": "code",
      "metadata": {
        "id": "Qurq9p-X1OKA",
        "colab": {
          "base_uri": "https://localhost:8080/"
        },
        "outputId": "157f62f5-f3fb-45ad-a835-86602fbe01ba"
      },
      "source": [
        "from keras.datasets import cifar10\n",
        "\n",
        "# Download Dataset\n",
        "(data_train, label_train), (data_test, label_test) = cifar10.load_data()\n",
        "\n",
        "# Train Dataset\n",
        "print(\"\\n----------- Train Dataset -----------\")\n",
        "print(\"Train dataset data type: \", data_train.dtype)\n",
        "print(\"Train dataset rank: \", data_train.ndim)\n",
        "print(\"Train dataset shape: \", data_train.shape)\n",
        "\n",
        "# Train Label\n",
        "print(\"\\n----------- Train Label -----------\")\n",
        "print(\"Train label data type: \", label_train.dtype)\n",
        "print(\"Train label rank: \", label_train.ndim)\n",
        "print(\"Train label shape: \", label_train.shape)\n",
        "\n",
        "# Test Dataset\n",
        "print(\"\\n----------- Test Dataset -----------\")\n",
        "print(\"Test dataset data type: \", data_test.dtype)\n",
        "print(\"Test dataset rank: \", data_test.ndim)\n",
        "print(\"Test dataset shape: \", data_test.shape)\n",
        "\n",
        "# Test Label\n",
        "print(\"\\n----------- Test Label -----------\")\n",
        "print(\"Test label data type: \", label_test.dtype)\n",
        "print(\"Test label rank: \", label_test.ndim)\n",
        "print(\"Test label shape: \", label_test.shape)\n"
      ],
      "execution_count": 208,
      "outputs": [
        {
          "output_type": "stream",
          "name": "stdout",
          "text": [
            "Downloading data from https://www.cs.toronto.edu/~kriz/cifar-10-python.tar.gz\n",
            "170500096/170498071 [==============================] - 4s 0us/step\n",
            "170508288/170498071 [==============================] - 4s 0us/step\n",
            "\n",
            "----------- Train Dataset -----------\n",
            "Train dataset data type:  uint8\n",
            "Train dataset rank:  4\n",
            "Train dataset shape:  (50000, 32, 32, 3)\n",
            "\n",
            "----------- Train Label -----------\n",
            "Train label data type:  uint8\n",
            "Train label rank:  2\n",
            "Train label shape:  (50000, 1)\n",
            "\n",
            "----------- Test Dataset -----------\n",
            "Test dataset data type:  uint8\n",
            "Test dataset rank:  4\n",
            "Test dataset shape:  (10000, 32, 32, 3)\n",
            "\n",
            "----------- Test Label -----------\n",
            "Test label data type:  uint8\n",
            "Test label rank:  2\n",
            "Test label shape:  (10000, 1)\n"
          ]
        }
      ]
    },
    {
      "cell_type": "markdown",
      "metadata": {
        "id": "P-Memyxm5T5w"
      },
      "source": [
        "# Question 4\n"
      ]
    },
    {
      "cell_type": "code",
      "metadata": {
        "id": "RoDMLxD05e5L"
      },
      "source": [
        "# Naive Bayes Implementation For Continuous Features\n",
        "# 80 % Learning Data & 20% Test Data\n",
        "import numpy as np\n",
        "import math\n",
        "\n",
        "Evidence = 150\n",
        "EachClassProbability = []\n",
        "AccuracyNum = []\n",
        "\n",
        "\n",
        "def DataExtraction():\n",
        "\n",
        "    Data = np.genfromtxt('/content/Data.csv', delimiter=',', usecols=(0, 1, 2, 3), skip_header=1)\n",
        "    Label = np.genfromtxt('/content/Data.csv', delimiter=',', dtype=None, usecols=(4), encoding=None, skip_header=1)\n",
        "    return Data, Label;\n",
        "    \n",
        "def CalculateVarMean(Data):\n",
        "    Var = [0] * 3\n",
        "    Mean = [0] * 3\n",
        "    # First Class\n",
        "    Var[0] = np.var(Data[0:49], axis=0)\n",
        "    Mean[0] = np.mean(Data[0:49], axis=0)\n",
        "\n",
        "    # Second Class\n",
        "    Var[1] = np.var(Data[50:99], axis=0)\n",
        "    Mean[1] = np.mean(Data[50:99], axis=0)\n",
        "\n",
        "    # Third Class\n",
        "    Var[2] = np.var(Data[100:149], axis=0)\n",
        "    Mean[2] = np.mean(Data[100:149], axis=0)\n",
        "    return Var, Mean;\n",
        "\n",
        "def CalculateConditionalProbability(X, Var, Mean):\n",
        "\n",
        "    Prob = (1 / math.sqrt(2 * np.pi * Var)) * math.exp(-1 * (pow(X - Mean, 2) / (2 * Var)))\n",
        "    return Prob\n",
        "\n",
        "# We Already Have This, 1/3\n",
        "def CalculateClassProbability(Label, Class):\n",
        "\n",
        "    ClassProb = np.count_nonzero(Label == Class) / Evidence\n",
        "    return ClassProb\n",
        "\n",
        "def SelectFinalClass(Classes):\n",
        "\n",
        "    Class = np.argmax(Classes) \n",
        "    return Class\n",
        "\n",
        "def Accuracy(SelectedCategory, ActualAnswer):\n",
        "    if (SelectedCategory == 0 and ActualAnswer == 'setosa') or (SelectedCategory == 1 and ActualAnswer == 'versicolor') or (SelectedCategory == 2 and ActualAnswer == 'virginica'):\n",
        "        AccuracyNum.append(1)\n",
        "    else:\n",
        "        AccuracyNum.append(0)\n",
        "\n"
      ],
      "execution_count": 209,
      "outputs": []
    },
    {
      "cell_type": "code",
      "metadata": {
        "id": "y6Gring65ems",
        "colab": {
          "base_uri": "https://localhost:8080/"
        },
        "outputId": "e432b14d-4ca6-4e86-9e08-f84bf733cee1"
      },
      "source": [
        "# Extract Data & Labels\n",
        "Data, Label = DataExtraction()\n",
        "\n",
        "# Calculate Var & Mean For Each Class\n",
        "Var, Mean = CalculateVarMean(Data)\n",
        "It = 0\n",
        "\n",
        "EachClassProbability.append(CalculateClassProbability(Label, 'setosa'))\n",
        "EachClassProbability.append(CalculateClassProbability(Label, 'versicolor'))\n",
        "EachClassProbability.append(CalculateClassProbability(Label, 'virginica'))\n",
        "\n",
        "# Reset\n",
        "AccuracyNum = []\n",
        "\n",
        "# Test\n",
        "for Sample in Data:\n",
        "    ProbabilitiesForClasses = []\n",
        "    for Class in range(0, 3):\n",
        "        Up = EachClassProbability[Class]\n",
        "        for Feature in range(0, 4):\n",
        "            Up *= CalculateConditionalProbability(Sample[Feature], Var[Class][Feature], Mean[Class][Feature])\n",
        "        FinalClassProb = Up / Evidence\n",
        "        ProbabilitiesForClasses.append(FinalClassProb)\n",
        "    Predicted = SelectFinalClass(ProbabilitiesForClasses)\n",
        "    Accuracy(Predicted, Label[It])\n",
        "    It += 1\n",
        "\n",
        "print('Accuracy: %', 100 * np.count_nonzero(AccuracyNum) / Evidence)\n"
      ],
      "execution_count": 210,
      "outputs": [
        {
          "output_type": "stream",
          "name": "stdout",
          "text": [
            "Accuracy: % 95.33333333333333\n"
          ]
        }
      ]
    }
  ]
}