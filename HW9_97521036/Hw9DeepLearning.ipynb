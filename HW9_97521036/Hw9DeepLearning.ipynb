{
  "nbformat": 4,
  "nbformat_minor": 0,
  "metadata": {
    "colab": {
      "name": "Hw9DeepLearning.ipynb",
      "provenance": [],
      "collapsed_sections": [
        "6rX7fjEvgt7x"
      ]
    },
    "kernelspec": {
      "name": "python3",
      "display_name": "Python 3"
    },
    "language_info": {
      "name": "python"
    },
    "accelerator": "GPU"
  },
  "cells": [
    {
      "cell_type": "markdown",
      "metadata": {
        "id": "8bQJl4vqgo1M"
      },
      "source": [
        "Melika Ahmadi Ranjbar 97521036\n",
        "\n",
        "---\n",
        "Homework 9\n"
      ]
    },
    {
      "cell_type": "markdown",
      "metadata": {
        "id": "6rX7fjEvgt7x"
      },
      "source": [
        "#Question 2"
      ]
    },
    {
      "cell_type": "code",
      "metadata": {
        "colab": {
          "base_uri": "https://localhost:8080/"
        },
        "id": "upXKfhzrgiwR",
        "outputId": "b477763d-040a-4274-f024-50a6ee4ca38a"
      },
      "source": [
        "import numpy as np\n",
        "import cv2\n",
        "\n",
        "# Read Image In Gray \n",
        "Image = cv2.imread(\"img1.jpg\", 0)\n",
        "\n",
        "# Apply Various Filters\n",
        "KernelA = np.array([[1, 1, 1],\n",
        "                    [1, 1, 1],\n",
        "                    [1, 1, 1]])\n",
        "\n",
        "KernelA = KernelA / sum(KernelA)\n",
        "ResultA = cv2.filter2D(Image, -1, KernelA)\n",
        "cv2.imwrite('ResultA.jpg', ResultA)\n",
        "\n",
        "KernelAp = np.array([[1, 1, 1, 1, 1],\n",
        "                    [1, 1, 1, 1, 1],\n",
        "                    [1, 1, 1, 1, 1],\n",
        "                    [1, 1, 1, 1, 1],\n",
        "                    [1, 1, 1, 1, 1]])\n",
        "\n",
        "KernelAp = KernelAp / sum(KernelAp)\n",
        "ResultAp = cv2.filter2D(Image, -1, KernelAp)\n",
        "cv2.imwrite('ResultAp.jpg', ResultAp)\n",
        "\n",
        "KernelB= np.array([[-1, -1, -1],\n",
        "                    [-1, 8, -1],\n",
        "                    [-1, -1, -1]])\n",
        "\n",
        "ResultB = cv2.filter2D(Image, -1, KernelB)\n",
        "cv2.imwrite('ResultB.jpg', ResultB)\n",
        "\n",
        "KernelC = np.array([[-1, -2, -1],\n",
        "                    [0, 0, 0],\n",
        "                    [1, 2, 1]])\n",
        "\n",
        "ResultC = cv2.filter2D(Image, -1, KernelC)\n",
        "cv2.imwrite('ResultC.jpg', ResultC)\n",
        "\n",
        "KernelD = np.array([[-1, 0, 1],\n",
        "                    [-2, 0, 2],\n",
        "                    [-1, 0, 1]])\n",
        "\n",
        "ResultD = cv2.filter2D(Image, -1, KernelD)\n",
        "cv2.imwrite('ResultD.jpg', ResultD)"
      ],
      "execution_count": null,
      "outputs": [
        {
          "output_type": "execute_result",
          "data": {
            "text/plain": [
              "True"
            ]
          },
          "metadata": {},
          "execution_count": 28
        }
      ]
    },
    {
      "cell_type": "markdown",
      "metadata": {
        "id": "48my4Sysgw1j"
      },
      "source": [
        "#Question 3\n"
      ]
    },
    {
      "cell_type": "code",
      "metadata": {
        "id": "itXx8IvPgy9V"
      },
      "source": [
        "import numpy as np\n",
        "import keras_tuner as kt\n",
        "from tensorflow import keras\n",
        "from keras.datasets import cifar10\n",
        "from tensorflow.keras import layers\n",
        "\n",
        "# !pip install -q -U keras-tuner\n",
        "\n",
        "# Data\n",
        "(x_train, y_train), (x_test, y_test) = cifar10.load_data()\n",
        "assert x_train.shape == (50000, 32, 32, 3)\n",
        "assert x_test.shape == (10000, 32, 32, 3)\n",
        "assert y_train.shape == (50000, 1)\n",
        "assert y_test.shape == (10000, 1)\n",
        "\n",
        "Classes = 10\n",
        "y_train = keras.utils.to_categorical(y_train, Classes)\n",
        "y_test = keras.utils.to_categorical(y_test, Classes)"
      ],
      "execution_count": 3,
      "outputs": []
    },
    {
      "cell_type": "code",
      "metadata": {
        "id": "0VfNcWxA8chS",
        "colab": {
          "base_uri": "https://localhost:8080/"
        },
        "outputId": "8917fbc7-c21b-46a7-ef22-e9a4c62ca8b7"
      },
      "source": [
        "def BuildModel(Hp):\n",
        "\n",
        "    Model = keras.Sequential()\n",
        "    # Convolution\n",
        "    Model.add(\n",
        "            layers.Conv2D(\n",
        "                filters=Hp.Int(f\"filters\", min_value=32, max_value=256, step=32),\n",
        "                kernel_size=(3, 3),\n",
        "                activation=\"relu\",\n",
        "                input_shape=(32, 32, 3),\n",
        "                padding=\"same\"\n",
        "            )\n",
        "        )\n",
        "    \n",
        "    for i in range(Hp.Int(\"num_layers\", 0, 4)):\n",
        "        Model.add(\n",
        "            layers.Conv2D(\n",
        "                # Tune Number Of Filters Separately.\n",
        "                filters=Hp.Int(f\"filters_{i}\", min_value=32, max_value=256, step=32),\n",
        "                kernel_size=(3, 3),\n",
        "                activation=\"relu\",\n",
        "                padding=\"same\"\n",
        "            )\n",
        "        )\n",
        "        if Hp.Boolean(\"dropout\"):\n",
        "            Model.add(layers.Dropout(rate=0.1))\n",
        "\n",
        "    \n",
        "    Model.add(layers.AveragePooling2D(pool_size=(2, 2)))\n",
        "    Model.add(layers.Flatten())\n",
        "    # Dense\n",
        "    for i in range(Hp.Int(\"num_layers\", 0, 4)):\n",
        "        Model.add(\n",
        "            layers.Dense(\n",
        "                # Tune Number Of Units Separately.\n",
        "                units=Hp.Int(f\"units_{i}\", min_value=32, max_value=256, step=32),\n",
        "                activation=Hp.Choice(\"activation\", [\"relu\", \"sigmoid\"]),\n",
        "            )\n",
        "        )\n",
        "\n",
        "    if Hp.Boolean(\"dropout\"):\n",
        "        Model.add(layers.Dropout(rate=0.1))\n",
        "\n",
        "    # Final Layer\n",
        "    Model.add(layers.Dense(10, activation=\"softmax\"))\n",
        "\n",
        "    # Compile\n",
        "    LearningRate = Hp.Float(\"lr\", min_value=1e-4, max_value=1e-3, sampling=\"log\")\n",
        "    Optimizer = Hp.Choice(\"optimizer\", values=['adam', 'SGD'])\n",
        "\n",
        "    if Optimizer == 'adam':\n",
        "        Optimizer= keras.optimizers.Adam(learning_rate=LearningRate)\n",
        "    elif Optimizer == 'SGD':\n",
        "        Optimizer= keras.optimizers.SGD(learning_rate=LearningRate)\n",
        "\n",
        "    Model.compile(optimizer=Optimizer, loss=\"categorical_crossentropy\", metrics=[\"accuracy\"])\n",
        "    return Model\n",
        "\n",
        "BuildModel(kt.HyperParameters())"
      ],
      "execution_count": 4,
      "outputs": [
        {
          "output_type": "execute_result",
          "data": {
            "text/plain": [
              "<keras.engine.sequential.Sequential at 0x7fd5884b9a10>"
            ]
          },
          "metadata": {},
          "execution_count": 4
        }
      ]
    },
    {
      "cell_type": "code",
      "metadata": {
        "id": "GH4pfFr1RGbF",
        "colab": {
          "base_uri": "https://localhost:8080/"
        },
        "outputId": "a4af6caf-008d-4950-ab92-49eccd180abd"
      },
      "source": [
        "# Other Arguments Are Set To Default\n",
        "Tuner = kt.BayesianOptimization(\n",
        "    hypermodel=BuildModel,\n",
        "    objective=\"val_accuracy\",\n",
        "    max_trials=3\n",
        ")\n",
        "Tuner.search_space_summary()"
      ],
      "execution_count": 5,
      "outputs": [
        {
          "output_type": "stream",
          "name": "stdout",
          "text": [
            "Search space summary\n",
            "Default search space size: 5\n",
            "filters (Int)\n",
            "{'default': None, 'conditions': [], 'min_value': 32, 'max_value': 256, 'step': 32, 'sampling': None}\n",
            "num_layers (Int)\n",
            "{'default': None, 'conditions': [], 'min_value': 0, 'max_value': 4, 'step': 1, 'sampling': None}\n",
            "dropout (Boolean)\n",
            "{'default': False, 'conditions': []}\n",
            "lr (Float)\n",
            "{'default': 0.0001, 'conditions': [], 'min_value': 0.0001, 'max_value': 0.001, 'step': None, 'sampling': 'log'}\n",
            "optimizer (Choice)\n",
            "{'default': 'adam', 'conditions': [], 'values': ['adam', 'SGD'], 'ordered': False}\n"
          ]
        }
      ]
    },
    {
      "cell_type": "code",
      "metadata": {
        "colab": {
          "base_uri": "https://localhost:8080/"
        },
        "id": "tn3-K1MfGZUL",
        "outputId": "8b8c8f21-f682-447c-9d32-b50dd8895388"
      },
      "source": [
        "Tuner.search(x_train, y_train, epochs=10, validation_data=(x_test, y_test))\n"
      ],
      "execution_count": 6,
      "outputs": [
        {
          "output_type": "stream",
          "name": "stdout",
          "text": [
            "Trial 3 Complete [00h 05m 23s]\n",
            "val_accuracy: 0.6704000234603882\n",
            "\n",
            "Best val_accuracy So Far: 0.6704000234603882\n",
            "Total elapsed time: 00h 19m 54s\n",
            "INFO:tensorflow:Oracle triggered exit\n"
          ]
        }
      ]
    },
    {
      "cell_type": "code",
      "metadata": {
        "colab": {
          "base_uri": "https://localhost:8080/"
        },
        "id": "3mRBPJaDS2_-",
        "outputId": "c24f4037-07a8-4541-f84e-0f1d27a880f8"
      },
      "source": [
        "# Get The Optimal Hyperparameters\n",
        "BestHp = Tuner.get_best_hyperparameters(num_trials=1)[0]\n",
        "\n",
        "Models = Tuner.get_best_models(num_models=2)\n",
        "BestModel = Models[0]\n",
        "# Build the model.\n",
        "# Needed for `Sequential` without specified `input_shape`.\n",
        "BestModel.summary()\n",
        "\n",
        "Tuner.results_summary()"
      ],
      "execution_count": 7,
      "outputs": [
        {
          "output_type": "stream",
          "name": "stdout",
          "text": [
            "Model: \"sequential\"\n",
            "_________________________________________________________________\n",
            " Layer (type)                Output Shape              Param #   \n",
            "=================================================================\n",
            " conv2d (Conv2D)             (None, 32, 32, 32)        896       \n",
            "                                                                 \n",
            " conv2d_1 (Conv2D)           (None, 32, 32, 32)        9248      \n",
            "                                                                 \n",
            " conv2d_2 (Conv2D)           (None, 32, 32, 32)        9248      \n",
            "                                                                 \n",
            " conv2d_3 (Conv2D)           (None, 32, 32, 32)        9248      \n",
            "                                                                 \n",
            " conv2d_4 (Conv2D)           (None, 32, 32, 32)        9248      \n",
            "                                                                 \n",
            " average_pooling2d (AverageP  (None, 16, 16, 32)       0         \n",
            " ooling2D)                                                       \n",
            "                                                                 \n",
            " flatten (Flatten)           (None, 8192)              0         \n",
            "                                                                 \n",
            " dense (Dense)               (None, 224)               1835232   \n",
            "                                                                 \n",
            " dense_1 (Dense)             (None, 32)                7200      \n",
            "                                                                 \n",
            " dense_2 (Dense)             (None, 32)                1056      \n",
            "                                                                 \n",
            " dense_3 (Dense)             (None, 32)                1056      \n",
            "                                                                 \n",
            " dense_4 (Dense)             (None, 10)                330       \n",
            "                                                                 \n",
            "=================================================================\n",
            "Total params: 1,882,762\n",
            "Trainable params: 1,882,762\n",
            "Non-trainable params: 0\n",
            "_________________________________________________________________\n",
            "Results summary\n",
            "Results in ./untitled_project\n",
            "Showing 10 best trials\n",
            "Objective(name='val_accuracy', direction='max')\n",
            "Trial summary\n",
            "Hyperparameters:\n",
            "filters: 32\n",
            "num_layers: 4\n",
            "dropout: False\n",
            "lr: 0.001\n",
            "optimizer: adam\n",
            "filters_0: 32\n",
            "filters_1: 32\n",
            "units_0: 224\n",
            "activation: relu\n",
            "units_1: 32\n",
            "filters_2: 32\n",
            "filters_3: 32\n",
            "units_2: 32\n",
            "units_3: 32\n",
            "Score: 0.6704000234603882\n",
            "Trial summary\n",
            "Hyperparameters:\n",
            "filters: 96\n",
            "num_layers: 2\n",
            "dropout: False\n",
            "lr: 0.0003055096719586788\n",
            "optimizer: adam\n",
            "filters_0: 32\n",
            "filters_1: 32\n",
            "units_0: 32\n",
            "activation: relu\n",
            "units_1: 32\n",
            "Score: 0.6546000242233276\n",
            "Trial summary\n",
            "Hyperparameters:\n",
            "filters: 192\n",
            "num_layers: 1\n",
            "dropout: True\n",
            "lr: 0.00022836100106724376\n",
            "optimizer: SGD\n",
            "filters_0: 256\n",
            "filters_1: 192\n",
            "units_0: 192\n",
            "activation: sigmoid\n",
            "units_1: 192\n",
            "Score: 0.5636000037193298\n"
          ]
        }
      ]
    },
    {
      "cell_type": "code",
      "metadata": {
        "colab": {
          "base_uri": "https://localhost:8080/"
        },
        "id": "fkcMOx6Of120",
        "outputId": "1e5deeea-6c70-44e7-ca41-cd9d20431134"
      },
      "source": [
        "# Retrain\n",
        "Model = Tuner.hypermodel.build(BestHp)\n",
        "History = Model.fit(x_train, y_train, epochs=5, validation_data=(x_test, y_test))"
      ],
      "execution_count": 9,
      "outputs": [
        {
          "output_type": "stream",
          "name": "stdout",
          "text": [
            "Epoch 1/5\n",
            "1563/1563 [==============================] - 27s 17ms/step - loss: 1.7292 - accuracy: 0.3570 - val_loss: 1.3921 - val_accuracy: 0.5022\n",
            "Epoch 2/5\n",
            "1563/1563 [==============================] - 26s 17ms/step - loss: 1.1848 - accuracy: 0.5767 - val_loss: 1.0685 - val_accuracy: 0.6244\n",
            "Epoch 3/5\n",
            "1563/1563 [==============================] - 27s 17ms/step - loss: 0.9242 - accuracy: 0.6762 - val_loss: 1.0607 - val_accuracy: 0.6361\n",
            "Epoch 4/5\n",
            "1563/1563 [==============================] - 26s 17ms/step - loss: 0.7241 - accuracy: 0.7493 - val_loss: 1.0635 - val_accuracy: 0.6540\n",
            "Epoch 5/5\n",
            "1563/1563 [==============================] - 27s 17ms/step - loss: 0.5394 - accuracy: 0.8129 - val_loss: 1.0686 - val_accuracy: 0.6648\n"
          ]
        }
      ]
    }
  ]
}