{
  "nbformat": 4,
  "nbformat_minor": 0,
  "metadata": {
    "colab": {
      "name": "Hw7DeepLearning.ipynb",
      "provenance": [],
      "collapsed_sections": []
    },
    "kernelspec": {
      "name": "python3",
      "display_name": "Python 3"
    },
    "language_info": {
      "name": "python"
    }
  },
  "cells": [
    {
      "cell_type": "markdown",
      "metadata": {
        "id": "VnrRg9I4V54y"
      },
      "source": [
        "Import Libraries"
      ]
    },
    {
      "cell_type": "code",
      "metadata": {
        "colab": {
          "base_uri": "https://localhost:8080/"
        },
        "id": "7_qQTHVXxNhn",
        "outputId": "5e737365-2bf9-4620-cec0-65b20c35e365"
      },
      "source": [
        "import tensorflow as tf\n",
        "\n",
        "from tensorflow.keras import layers\n",
        "from tensorflow.keras import regularizers\n",
        "\n",
        "!pip install -q git+https://github.com/tensorflow/docs\n",
        "import tensorflow_docs as tfdocs\n",
        "import tensorflow_docs.modeling\n",
        "import tensorflow_docs.plots"
      ],
      "execution_count": 2,
      "outputs": [
        {
          "output_type": "stream",
          "name": "stdout",
          "text": [
            "  Building wheel for tensorflow-docs (setup.py) ... \u001b[?25l\u001b[?25hdone\n"
          ]
        }
      ]
    },
    {
      "cell_type": "markdown",
      "metadata": {
        "id": "ycj0L9NXV_61"
      },
      "source": [
        "Load and prepare dataset"
      ]
    },
    {
      "cell_type": "code",
      "metadata": {
        "id": "PHXA1Qi-xO8m",
        "colab": {
          "base_uri": "https://localhost:8080/"
        },
        "outputId": "98ef09e7-18da-4377-ff73-7c0a22aafa9a"
      },
      "source": [
        "gz = tf.keras.utils.get_file('HIGGS.csv.gz', 'http://mlphysics.ics.uci.edu/data/higgs/HIGGS.csv.gz')"
      ],
      "execution_count": 3,
      "outputs": [
        {
          "output_type": "stream",
          "name": "stdout",
          "text": [
            "Downloading data from http://mlphysics.ics.uci.edu/data/higgs/HIGGS.csv.gz\n",
            "2816409600/2816407858 [==============================] - 66s 0us/step\n",
            "2816417792/2816407858 [==============================] - 66s 0us/step\n"
          ]
        }
      ]
    },
    {
      "cell_type": "code",
      "metadata": {
        "id": "isN7uLAVxO_u"
      },
      "source": [
        "FEATURES = 28\n",
        "ds = tf.data.experimental.CsvDataset(gz,[float(),]*(FEATURES+1), compression_type=\"GZIP\")\n",
        "\n",
        "def pack_row(*row):\n",
        "  label = row[0]\n",
        "  features = tf.stack(row[1:],1)\n",
        "  return features, label\n",
        "\n",
        "packed_ds = ds.batch(10000).map(pack_row).unbatch()"
      ],
      "execution_count": 4,
      "outputs": []
    },
    {
      "cell_type": "code",
      "metadata": {
        "id": "D29Up7HBxPC6"
      },
      "source": [
        "N_VALIDATION = int(1e3)\n",
        "N_TRAIN = int(1e4)\n",
        "BUFFER_SIZE = int(1e4)\n",
        "BATCH_SIZE = 500\n",
        "STEPS_PER_EPOCH = N_TRAIN//BATCH_SIZE"
      ],
      "execution_count": 5,
      "outputs": []
    },
    {
      "cell_type": "code",
      "metadata": {
        "id": "sy7uerX3xdHt"
      },
      "source": [
        "validate_ds = packed_ds.take(N_VALIDATION).cache()\n",
        "train_ds = packed_ds.skip(N_VALIDATION).take(N_TRAIN).cache()\n",
        "validate_ds = validate_ds.batch(BATCH_SIZE)\n",
        "train_ds = train_ds.shuffle(BUFFER_SIZE).repeat().batch(BATCH_SIZE)"
      ],
      "execution_count": 6,
      "outputs": []
    },
    {
      "cell_type": "markdown",
      "metadata": {
        "id": "y6ixk9zGWKIx"
      },
      "source": [
        "Simple model"
      ]
    },
    {
      "cell_type": "code",
      "metadata": {
        "colab": {
          "base_uri": "https://localhost:8080/"
        },
        "id": "2-nYZwVyxdKw",
        "outputId": "bf24f296-e0a5-422e-c43a-97b8aa7c40a9"
      },
      "source": [
        "model = tf.keras.Sequential([\n",
        "    layers.Dense(16, activation='elu', input_shape=(FEATURES,)),\n",
        "    layers.Dropout(0.5),\n",
        "    layers.Dense(256, activation='elu'),\n",
        "    layers.Dropout(0.4),\n",
        "    layers.Dense(1024, activation='elu'),\n",
        "    layers.Dropout(0.4),\n",
        "    layers.Dense(128, activation='elu'),\n",
        "    layers.Dropout(0.2),\n",
        "    layers.Dense(1)\n",
        "])\n",
        "\n",
        "model.summary()"
      ],
      "execution_count": 16,
      "outputs": [
        {
          "output_type": "stream",
          "name": "stdout",
          "text": [
            "Model: \"sequential_4\"\n",
            "_________________________________________________________________\n",
            " Layer (type)                Output Shape              Param #   \n",
            "=================================================================\n",
            " dense_20 (Dense)            (None, 16)                464       \n",
            "                                                                 \n",
            " dropout_12 (Dropout)        (None, 16)                0         \n",
            "                                                                 \n",
            " dense_21 (Dense)            (None, 256)               4352      \n",
            "                                                                 \n",
            " dropout_13 (Dropout)        (None, 256)               0         \n",
            "                                                                 \n",
            " dense_22 (Dense)            (None, 1024)              263168    \n",
            "                                                                 \n",
            " dropout_14 (Dropout)        (None, 1024)              0         \n",
            "                                                                 \n",
            " dense_23 (Dense)            (None, 128)               131200    \n",
            "                                                                 \n",
            " dropout_15 (Dropout)        (None, 128)               0         \n",
            "                                                                 \n",
            " dense_24 (Dense)            (None, 1)                 129       \n",
            "                                                                 \n",
            "=================================================================\n",
            "Total params: 399,313\n",
            "Trainable params: 399,313\n",
            "Non-trainable params: 0\n",
            "_________________________________________________________________\n"
          ]
        }
      ]
    },
    {
      "cell_type": "code",
      "metadata": {
        "id": "bAgFnr3A10kH"
      },
      "source": [
        "def get_callbacks():\n",
        "  return [\n",
        "    tfdocs.modeling.EpochDots(),\n",
        "    tf.keras.callbacks.EarlyStopping(monitor='val_loss', patience=200),\n",
        "  ]"
      ],
      "execution_count": 8,
      "outputs": []
    },
    {
      "cell_type": "code",
      "metadata": {
        "id": "j8UlVCj65ggr"
      },
      "source": [
        "def compile_and_fit(model, max_epochs=10000):\n",
        "  model.compile(optimizer=\"adam\",\n",
        "                loss=tf.keras.losses.BinaryCrossentropy(from_logits=True),\n",
        "                metrics=[\n",
        "                  tf.keras.losses.BinaryCrossentropy(\n",
        "                      from_logits=True, name='binary_crossentropy'),\n",
        "                  'accuracy'])\n",
        "\n",
        "  model.summary()\n",
        "\n",
        "  history = model.fit(\n",
        "    train_ds,\n",
        "    steps_per_epoch = STEPS_PER_EPOCH,\n",
        "    epochs=max_epochs,\n",
        "    validation_data=validate_ds,\n",
        "    callbacks=get_callbacks(),\n",
        "    verbose=0)\n",
        "  return history"
      ],
      "execution_count": 9,
      "outputs": []
    },
    {
      "cell_type": "code",
      "metadata": {
        "colab": {
          "base_uri": "https://localhost:8080/"
        },
        "id": "M_fr4eQWoxcR",
        "outputId": "b491ab2b-dfc4-48e9-c9c4-dc0d929d9a2f"
      },
      "source": [
        "compile_and_fit(model)"
      ],
      "execution_count": null,
      "outputs": [
        {
          "output_type": "stream",
          "text": [
            "Model: \"sequential_2\"\n",
            "_________________________________________________________________\n",
            "Layer (type)                 Output Shape              Param #   \n",
            "=================================================================\n",
            "dense_4 (Dense)              (None, 16)                464       \n",
            "_________________________________________________________________\n",
            "dense_5 (Dense)              (None, 1)                 17        \n",
            "=================================================================\n",
            "Total params: 481\n",
            "Trainable params: 481\n",
            "Non-trainable params: 0\n",
            "_________________________________________________________________\n",
            "\n",
            "Epoch: 0, accuracy:0.4830,  binary_crossentropy:0.7695,  loss:0.7695,  val_accuracy:0.4710,  val_binary_crossentropy:0.7413,  val_loss:0.7413,  \n",
            "....................................................................................................\n",
            "Epoch: 100, accuracy:0.6005,  binary_crossentropy:0.6250,  loss:0.6250,  val_accuracy:0.5600,  val_binary_crossentropy:0.6285,  val_loss:0.6285,  \n",
            "....................................................................................................\n",
            "Epoch: 200, accuracy:0.6276,  binary_crossentropy:0.6065,  loss:0.6065,  val_accuracy:0.6320,  val_binary_crossentropy:0.6066,  val_loss:0.6066,  \n",
            "....................................................................................................\n",
            "Epoch: 300, accuracy:0.6561,  binary_crossentropy:0.5915,  loss:0.5915,  val_accuracy:0.6440,  val_binary_crossentropy:0.5906,  val_loss:0.5906,  \n",
            "....................................................................................................\n",
            "Epoch: 400, accuracy:0.6678,  binary_crossentropy:0.5839,  loss:0.5839,  val_accuracy:0.6580,  val_binary_crossentropy:0.5847,  val_loss:0.5847,  \n",
            "....................................................................................................\n",
            "Epoch: 500, accuracy:0.6723,  binary_crossentropy:0.5806,  loss:0.5806,  val_accuracy:0.6890,  val_binary_crossentropy:0.5815,  val_loss:0.5815,  \n",
            "....................................................................................................\n",
            "Epoch: 600, accuracy:0.6775,  binary_crossentropy:0.5766,  loss:0.5766,  val_accuracy:0.6660,  val_binary_crossentropy:0.5843,  val_loss:0.5843,  \n",
            "....................................................................................................\n",
            "Epoch: 700, accuracy:0.6793,  binary_crossentropy:0.5731,  loss:0.5731,  val_accuracy:0.6680,  val_binary_crossentropy:0.5822,  val_loss:0.5822,  \n",
            "....................................................................................................\n",
            "Epoch: 800, accuracy:0.6790,  binary_crossentropy:0.5706,  loss:0.5706,  val_accuracy:0.6660,  val_binary_crossentropy:0.5823,  val_loss:0.5823,  \n",
            "....................................................................................................\n",
            "Epoch: 900, accuracy:0.6846,  binary_crossentropy:0.5690,  loss:0.5690,  val_accuracy:0.6820,  val_binary_crossentropy:0.5807,  val_loss:0.5807,  \n",
            "....................................."
          ],
          "name": "stdout"
        },
        {
          "output_type": "execute_result",
          "data": {
            "text/plain": [
              "<tensorflow.python.keras.callbacks.History at 0x7ff0fc8e4950>"
            ]
          },
          "metadata": {
            "tags": []
          },
          "execution_count": 38
        }
      ]
    },
    {
      "cell_type": "code",
      "metadata": {
        "id": "TJQY4_VP6gfq",
        "colab": {
          "base_uri": "https://localhost:8080/"
        },
        "outputId": "99c856da-6dbc-478e-9140-eecc2d50bab0"
      },
      "source": [
        "# Solve Under Fitting\n",
        "compile_and_fit(model)"
      ],
      "execution_count": 10,
      "outputs": [
        {
          "output_type": "stream",
          "name": "stdout",
          "text": [
            "Model: \"sequential\"\n",
            "_________________________________________________________________\n",
            " Layer (type)                Output Shape              Param #   \n",
            "=================================================================\n",
            " dense (Dense)               (None, 16)                464       \n",
            "                                                                 \n",
            " dense_1 (Dense)             (None, 256)               4352      \n",
            "                                                                 \n",
            " dense_2 (Dense)             (None, 1024)              263168    \n",
            "                                                                 \n",
            " dense_3 (Dense)             (None, 128)               131200    \n",
            "                                                                 \n",
            " dense_4 (Dense)             (None, 1)                 129       \n",
            "                                                                 \n",
            "=================================================================\n",
            "Total params: 399,313\n",
            "Trainable params: 399,313\n",
            "Non-trainable params: 0\n",
            "_________________________________________________________________\n",
            "\n",
            "Epoch: 0, accuracy:0.5058,  binary_crossentropy:0.7697,  loss:0.7697,  val_accuracy:0.4930,  val_binary_crossentropy:0.6982,  val_loss:0.6982,  \n",
            "....................................................................................................\n",
            "Epoch: 100, accuracy:0.7856,  binary_crossentropy:0.4262,  loss:0.4262,  val_accuracy:0.6390,  val_binary_crossentropy:0.7202,  val_loss:0.7202,  \n",
            "....................................................................................................\n",
            "Epoch: 200, accuracy:1.0000,  binary_crossentropy:0.0132,  loss:0.0132,  val_accuracy:0.6240,  val_binary_crossentropy:1.7530,  val_loss:1.7530,  \n",
            "................................................."
          ]
        },
        {
          "output_type": "execute_result",
          "data": {
            "text/plain": [
              "<keras.callbacks.History at 0x7fcf53360610>"
            ]
          },
          "metadata": {},
          "execution_count": 10
        }
      ]
    },
    {
      "cell_type": "code",
      "metadata": {
        "colab": {
          "base_uri": "https://localhost:8080/"
        },
        "id": "BfeS8OorlD39",
        "outputId": "7b249136-1c30-4a5e-86ad-4baf02243a8c"
      },
      "source": [
        "# Solve Over Fitting -> Dropout\n",
        "compile_and_fit(model)"
      ],
      "execution_count": 12,
      "outputs": [
        {
          "output_type": "stream",
          "name": "stdout",
          "text": [
            "Model: \"sequential_1\"\n",
            "_________________________________________________________________\n",
            " Layer (type)                Output Shape              Param #   \n",
            "=================================================================\n",
            " dense_5 (Dense)             (None, 16)                464       \n",
            "                                                                 \n",
            " dropout (Dropout)           (None, 16)                0         \n",
            "                                                                 \n",
            " dense_6 (Dense)             (None, 256)               4352      \n",
            "                                                                 \n",
            " dropout_1 (Dropout)         (None, 256)               0         \n",
            "                                                                 \n",
            " dense_7 (Dense)             (None, 1024)              263168    \n",
            "                                                                 \n",
            " dropout_2 (Dropout)         (None, 1024)              0         \n",
            "                                                                 \n",
            " dense_8 (Dense)             (None, 128)               131200    \n",
            "                                                                 \n",
            " dropout_3 (Dropout)         (None, 128)               0         \n",
            "                                                                 \n",
            " dense_9 (Dense)             (None, 1)                 129       \n",
            "                                                                 \n",
            "=================================================================\n",
            "Total params: 399,313\n",
            "Trainable params: 399,313\n",
            "Non-trainable params: 0\n",
            "_________________________________________________________________\n",
            "\n",
            "Epoch: 0, accuracy:0.4912,  binary_crossentropy:0.7409,  loss:0.7409,  val_accuracy:0.4600,  val_binary_crossentropy:0.6967,  val_loss:0.6967,  \n",
            "....................................................................................................\n",
            "Epoch: 100, accuracy:0.6104,  binary_crossentropy:0.6302,  loss:0.6302,  val_accuracy:0.6360,  val_binary_crossentropy:0.6006,  val_loss:0.6006,  \n",
            "....................................................................................................\n",
            "Epoch: 200, accuracy:0.6353,  binary_crossentropy:0.6099,  loss:0.6099,  val_accuracy:0.6450,  val_binary_crossentropy:0.5828,  val_loss:0.5828,  \n",
            "....................................................................................................\n",
            "Epoch: 300, accuracy:0.6468,  binary_crossentropy:0.6054,  loss:0.6054,  val_accuracy:0.6840,  val_binary_crossentropy:0.5786,  val_loss:0.5786,  \n",
            "....................................................................................................\n",
            "Epoch: 400, accuracy:0.6570,  binary_crossentropy:0.6009,  loss:0.6009,  val_accuracy:0.6930,  val_binary_crossentropy:0.5717,  val_loss:0.5717,  \n",
            "....................................................................................................\n",
            "Epoch: 500, accuracy:0.6629,  binary_crossentropy:0.5938,  loss:0.5938,  val_accuracy:0.7090,  val_binary_crossentropy:0.5634,  val_loss:0.5634,  \n",
            "....................................................................................................\n",
            "Epoch: 600, accuracy:0.6628,  binary_crossentropy:0.5920,  loss:0.5920,  val_accuracy:0.7020,  val_binary_crossentropy:0.5694,  val_loss:0.5694,  \n",
            "....................................................................................................\n",
            "Epoch: 700, accuracy:0.6635,  binary_crossentropy:0.5880,  loss:0.5880,  val_accuracy:0.7040,  val_binary_crossentropy:0.5619,  val_loss:0.5619,  \n",
            "....................................................................................................\n",
            "Epoch: 800, accuracy:0.6646,  binary_crossentropy:0.5893,  loss:0.5893,  val_accuracy:0.6960,  val_binary_crossentropy:0.5644,  val_loss:0.5644,  \n",
            "....................................................................................................\n",
            "Epoch: 900, accuracy:0.6659,  binary_crossentropy:0.5872,  loss:0.5872,  val_accuracy:0.7070,  val_binary_crossentropy:0.5621,  val_loss:0.5621,  \n",
            "....................................................................................................\n",
            "Epoch: 1000, accuracy:0.6624,  binary_crossentropy:0.5847,  loss:0.5847,  val_accuracy:0.6840,  val_binary_crossentropy:0.5578,  val_loss:0.5578,  \n",
            "....................................................................................................\n",
            "Epoch: 1100, accuracy:0.6624,  binary_crossentropy:0.5869,  loss:0.5869,  val_accuracy:0.6980,  val_binary_crossentropy:0.5566,  val_loss:0.5566,  \n",
            "....................................................................................................\n",
            "Epoch: 1200, accuracy:0.6632,  binary_crossentropy:0.5871,  loss:0.5871,  val_accuracy:0.6950,  val_binary_crossentropy:0.5528,  val_loss:0.5528,  \n",
            "....................................................................................................\n",
            "Epoch: 1300, accuracy:0.6702,  binary_crossentropy:0.5780,  loss:0.5780,  val_accuracy:0.7070,  val_binary_crossentropy:0.5543,  val_loss:0.5543,  \n",
            ".........................................................................."
          ]
        },
        {
          "output_type": "execute_result",
          "data": {
            "text/plain": [
              "<keras.callbacks.History at 0x7fcf4b37f190>"
            ]
          },
          "metadata": {},
          "execution_count": 12
        }
      ]
    },
    {
      "cell_type": "code",
      "metadata": {
        "colab": {
          "base_uri": "https://localhost:8080/"
        },
        "id": "FrNtUdQBlsTF",
        "outputId": "2f7a65bf-7f7d-4c6a-d198-7c2f8bd7e599"
      },
      "source": [
        "# Solve Over Fitting -> Add L2\n",
        "compile_and_fit(model)"
      ],
      "execution_count": 15,
      "outputs": [
        {
          "output_type": "stream",
          "name": "stdout",
          "text": [
            "Model: \"sequential_3\"\n",
            "_________________________________________________________________\n",
            " Layer (type)                Output Shape              Param #   \n",
            "=================================================================\n",
            " dense_15 (Dense)            (None, 16)                464       \n",
            "                                                                 \n",
            " dropout_8 (Dropout)         (None, 16)                0         \n",
            "                                                                 \n",
            " dense_16 (Dense)            (None, 256)               4352      \n",
            "                                                                 \n",
            " dropout_9 (Dropout)         (None, 256)               0         \n",
            "                                                                 \n",
            " dense_17 (Dense)            (None, 1024)              263168    \n",
            "                                                                 \n",
            " dropout_10 (Dropout)        (None, 1024)              0         \n",
            "                                                                 \n",
            " dense_18 (Dense)            (None, 128)               131200    \n",
            "                                                                 \n",
            " dropout_11 (Dropout)        (None, 128)               0         \n",
            "                                                                 \n",
            " dense_19 (Dense)            (None, 1)                 129       \n",
            "                                                                 \n",
            "=================================================================\n",
            "Total params: 399,313\n",
            "Trainable params: 399,313\n",
            "Non-trainable params: 0\n",
            "_________________________________________________________________\n",
            "\n",
            "Epoch: 0, accuracy:0.4901,  binary_crossentropy:0.7570,  loss:0.9301,  val_accuracy:0.4870,  val_binary_crossentropy:0.6906,  val_loss:0.8608,  \n",
            "....................................................................................................\n",
            "Epoch: 100, accuracy:0.6008,  binary_crossentropy:0.6266,  loss:0.6421,  val_accuracy:0.6400,  val_binary_crossentropy:0.6029,  val_loss:0.6183,  \n",
            "....................................................................................................\n",
            "Epoch: 200, accuracy:0.6193,  binary_crossentropy:0.6207,  loss:0.6356,  val_accuracy:0.6410,  val_binary_crossentropy:0.5980,  val_loss:0.6126,  \n",
            "....................................................................................................\n",
            "Epoch: 300, accuracy:0.6116,  binary_crossentropy:0.6263,  loss:0.6409,  val_accuracy:0.5930,  val_binary_crossentropy:0.6004,  val_loss:0.6147,  \n",
            "....................................................................................................\n",
            "Epoch: 400, accuracy:0.6242,  binary_crossentropy:0.6190,  loss:0.6339,  val_accuracy:0.6240,  val_binary_crossentropy:0.5956,  val_loss:0.6100,  \n",
            "....................................................................................................\n",
            "Epoch: 500, accuracy:0.6235,  binary_crossentropy:0.6242,  loss:0.6385,  val_accuracy:0.6100,  val_binary_crossentropy:0.5987,  val_loss:0.6129,  \n",
            "....................................................................................................\n",
            "Epoch: 600, accuracy:0.6222,  binary_crossentropy:0.6216,  loss:0.6361,  val_accuracy:0.6490,  val_binary_crossentropy:0.5937,  val_loss:0.6082,  \n",
            ".."
          ]
        },
        {
          "output_type": "execute_result",
          "data": {
            "text/plain": [
              "<keras.callbacks.History at 0x7fcf4ade4c10>"
            ]
          },
          "metadata": {},
          "execution_count": 15
        }
      ]
    },
    {
      "cell_type": "code",
      "metadata": {
        "colab": {
          "base_uri": "https://localhost:8080/"
        },
        "id": "wx7dvvs0x_0l",
        "outputId": "98eef16f-2889-42e1-b922-a980eb84b569"
      },
      "source": [
        "# Solve L2 Adverse Effect \n",
        "compile_and_fit(model)"
      ],
      "execution_count": 17,
      "outputs": [
        {
          "output_type": "stream",
          "name": "stdout",
          "text": [
            "Model: \"sequential_4\"\n",
            "_________________________________________________________________\n",
            " Layer (type)                Output Shape              Param #   \n",
            "=================================================================\n",
            " dense_20 (Dense)            (None, 16)                464       \n",
            "                                                                 \n",
            " dropout_12 (Dropout)        (None, 16)                0         \n",
            "                                                                 \n",
            " dense_21 (Dense)            (None, 256)               4352      \n",
            "                                                                 \n",
            " dropout_13 (Dropout)        (None, 256)               0         \n",
            "                                                                 \n",
            " dense_22 (Dense)            (None, 1024)              263168    \n",
            "                                                                 \n",
            " dropout_14 (Dropout)        (None, 1024)              0         \n",
            "                                                                 \n",
            " dense_23 (Dense)            (None, 128)               131200    \n",
            "                                                                 \n",
            " dropout_15 (Dropout)        (None, 128)               0         \n",
            "                                                                 \n",
            " dense_24 (Dense)            (None, 1)                 129       \n",
            "                                                                 \n",
            "=================================================================\n",
            "Total params: 399,313\n",
            "Trainable params: 399,313\n",
            "Non-trainable params: 0\n",
            "_________________________________________________________________\n",
            "\n",
            "Epoch: 0, accuracy:0.4898,  binary_crossentropy:0.7472,  loss:2.0005,  val_accuracy:0.4770,  val_binary_crossentropy:0.6880,  val_loss:1.8062,  \n",
            "....................................................................................................\n",
            "Epoch: 100, accuracy:0.5617,  binary_crossentropy:0.6465,  loss:0.6571,  val_accuracy:0.5420,  val_binary_crossentropy:0.6361,  val_loss:0.6470,  \n",
            "....................................................................................................\n",
            "Epoch: 200, accuracy:0.5699,  binary_crossentropy:0.6442,  loss:0.6534,  val_accuracy:0.5880,  val_binary_crossentropy:0.6298,  val_loss:0.6392,  \n",
            "....................................................................................................\n",
            "Epoch: 300, accuracy:0.5661,  binary_crossentropy:0.6423,  loss:0.6505,  val_accuracy:0.5850,  val_binary_crossentropy:0.6319,  val_loss:0.6399,  \n",
            "....................................................................................................\n",
            "Epoch: 400, accuracy:0.5611,  binary_crossentropy:0.6452,  loss:0.6529,  val_accuracy:0.5870,  val_binary_crossentropy:0.6327,  val_loss:0.6401,  \n",
            "....................................................................................................\n",
            "Epoch: 500, accuracy:0.5695,  binary_crossentropy:0.6417,  loss:0.6491,  val_accuracy:0.5570,  val_binary_crossentropy:0.6313,  val_loss:0.6385,  \n",
            "....................................................................................................\n",
            "Epoch: 600, accuracy:0.5702,  binary_crossentropy:0.6424,  loss:0.6495,  val_accuracy:0.5690,  val_binary_crossentropy:0.6277,  val_loss:0.6351,  \n",
            "....................................................................................................\n",
            "Epoch: 700, accuracy:0.5752,  binary_crossentropy:0.6441,  loss:0.6510,  val_accuracy:0.5450,  val_binary_crossentropy:0.6326,  val_loss:0.6393,  \n",
            "....................................................................................................\n",
            "Epoch: 800, accuracy:0.5749,  binary_crossentropy:0.6424,  loss:0.6492,  val_accuracy:0.5740,  val_binary_crossentropy:0.6334,  val_loss:0.6398,  \n",
            "....................."
          ]
        },
        {
          "output_type": "execute_result",
          "data": {
            "text/plain": [
              "<keras.callbacks.History at 0x7fcf471fe810>"
            ]
          },
          "metadata": {},
          "execution_count": 17
        }
      ]
    }
  ]
}