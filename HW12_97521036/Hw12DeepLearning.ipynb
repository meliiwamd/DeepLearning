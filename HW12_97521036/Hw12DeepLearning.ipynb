{
  "nbformat": 4,
  "nbformat_minor": 0,
  "metadata": {
    "colab": {
      "name": "Hw12DeepLearning.ipynb",
      "provenance": [],
      "collapsed_sections": []
    },
    "kernelspec": {
      "name": "python3",
      "display_name": "Python 3"
    },
    "language_info": {
      "name": "python"
    },
    "accelerator": "GPU"
  },
  "cells": [
    {
      "cell_type": "markdown",
      "source": [
        "Melika Ahmadi Ranjbar 97521036\n",
        "\n",
        "\n",
        "---\n",
        "\n",
        "Homework 12"
      ],
      "metadata": {
        "id": "tRU7ayJ3jDI-"
      }
    },
    {
      "cell_type": "markdown",
      "source": [
        "#Question 1"
      ],
      "metadata": {
        "id": "RpkKgG-kjI2V"
      }
    },
    {
      "cell_type": "code",
      "execution_count": 1,
      "metadata": {
        "colab": {
          "base_uri": "https://localhost:8080/"
        },
        "id": "qT6OA7c4jAMf",
        "outputId": "a043cac8-58c5-4627-b5a0-fe6e9ef4b049"
      },
      "outputs": [
        {
          "output_type": "stream",
          "name": "stdout",
          "text": [
            "Collecting yfinance\n",
            "  Downloading yfinance-0.1.67-py2.py3-none-any.whl (25 kB)\n",
            "Requirement already satisfied: numpy>=1.15 in /usr/local/lib/python3.7/dist-packages (from yfinance) (1.19.5)\n",
            "Requirement already satisfied: multitasking>=0.0.7 in /usr/local/lib/python3.7/dist-packages (from yfinance) (0.0.10)\n",
            "Requirement already satisfied: pandas>=0.24 in /usr/local/lib/python3.7/dist-packages (from yfinance) (1.1.5)\n",
            "Collecting lxml>=4.5.1\n",
            "  Downloading lxml-4.7.1-cp37-cp37m-manylinux_2_17_x86_64.manylinux2014_x86_64.manylinux_2_24_x86_64.whl (6.4 MB)\n",
            "\u001b[K     |████████████████████████████████| 6.4 MB 7.3 MB/s \n",
            "\u001b[?25hRequirement already satisfied: requests>=2.20 in /usr/local/lib/python3.7/dist-packages (from yfinance) (2.23.0)\n",
            "Requirement already satisfied: pytz>=2017.2 in /usr/local/lib/python3.7/dist-packages (from pandas>=0.24->yfinance) (2018.9)\n",
            "Requirement already satisfied: python-dateutil>=2.7.3 in /usr/local/lib/python3.7/dist-packages (from pandas>=0.24->yfinance) (2.8.2)\n",
            "Requirement already satisfied: six>=1.5 in /usr/local/lib/python3.7/dist-packages (from python-dateutil>=2.7.3->pandas>=0.24->yfinance) (1.15.0)\n",
            "Requirement already satisfied: certifi>=2017.4.17 in /usr/local/lib/python3.7/dist-packages (from requests>=2.20->yfinance) (2021.10.8)\n",
            "Requirement already satisfied: idna<3,>=2.5 in /usr/local/lib/python3.7/dist-packages (from requests>=2.20->yfinance) (2.10)\n",
            "Requirement already satisfied: urllib3!=1.25.0,!=1.25.1,<1.26,>=1.21.1 in /usr/local/lib/python3.7/dist-packages (from requests>=2.20->yfinance) (1.24.3)\n",
            "Requirement already satisfied: chardet<4,>=3.0.2 in /usr/local/lib/python3.7/dist-packages (from requests>=2.20->yfinance) (3.0.4)\n",
            "Installing collected packages: lxml, yfinance\n",
            "  Attempting uninstall: lxml\n",
            "    Found existing installation: lxml 4.2.6\n",
            "    Uninstalling lxml-4.2.6:\n",
            "      Successfully uninstalled lxml-4.2.6\n",
            "Successfully installed lxml-4.7.1 yfinance-0.1.67\n"
          ]
        }
      ],
      "source": [
        "# Install\n",
        "!pip install yfinance --upgrade --no-cache-dir\n",
        "import yfinance as yf\n",
        "\n",
        "# Import\n",
        "import numpy as np\n",
        "import pandas as pd\n",
        "from keras import layers\n",
        "import matplotlib.pyplot as plt\n",
        "from keras.models import Sequential\n",
        "from sklearn.preprocessing import MinMaxScaler"
      ]
    },
    {
      "cell_type": "code",
      "source": [
        "# Get Data\n",
        "TrainData = yf.download(\"BTC-USD\", start=\"2014-01-01\", end=\"2021-09-01\")['Adj Close']\n",
        "TestData = yf.download(\"BTC-USD\", start=\"2021-09-01\")['Adj Close']"
      ],
      "metadata": {
        "colab": {
          "base_uri": "https://localhost:8080/"
        },
        "id": "jXnjz0oYlbIr",
        "outputId": "86437997-af52-4c61-a520-91bbbb67428f"
      },
      "execution_count": 2,
      "outputs": [
        {
          "output_type": "stream",
          "name": "stdout",
          "text": [
            "[*********************100%***********************]  1 of 1 completed\n",
            "[*********************100%***********************]  1 of 1 completed\n"
          ]
        }
      ]
    },
    {
      "cell_type": "code",
      "source": [
        "# Plot\n",
        "plt.figure(figsize=(15, 5))\n",
        "plt.plot(TrainData, color='blue', linewidth=1)\n",
        "plt.plot(TestData, color='orange', linewidth=1)\n",
        "plt.title('Checking')\n",
        "plt.ylabel('Price')\n",
        "plt.xlabel('Date')\n",
        "plt.show()"
      ],
      "metadata": {
        "colab": {
          "base_uri": "https://localhost:8080/",
          "height": 350
        },
        "id": "2WD2W7IQmSU7",
        "outputId": "6451fc5b-f713-4742-e51d-b3b8d95dd02c"
      },
      "execution_count": 3,
      "outputs": [
        {
          "output_type": "display_data",
          "data": {
            "image/png": "[encoded data removed]",
            "text/plain": [
              "<Figure size 1080x360 with 1 Axes>"
            ]
          },
          "metadata": {
            "needs_background": "light"
          }
        }
      ]
    },
    {
      "cell_type": "code",
      "source": [
        "# Normalize\n",
        "TrainData = np.array(TrainData).reshape(-1, 1)\n",
        "TestData = np.array(TestData).reshape(-1, 1)\n",
        "\n",
        "Scaler = MinMaxScaler()\n",
        "Scaler.fit(TrainData)\n",
        "TrainData = Scaler.transform(TrainData)\n",
        "TestData = Scaler.transform(TestData)"
      ],
      "metadata": {
        "id": "zWvFlspxnRB5"
      },
      "execution_count": 4,
      "outputs": []
    },
    {
      "cell_type": "code",
      "source": [
        "RangeNumber = 60\n",
        "\n",
        "def CreateRangedDataSet(Data):\n",
        "    x = []\n",
        "    y = []\n",
        "    for i in range(RangeNumber, Data.shape[0]):\n",
        "        x.append(Data[i - RangeNumber: i, 0])\n",
        "        y.append(Data[i, 0])\n",
        "    x = np.array(x)\n",
        "    y = np.array(y)\n",
        "    return x, y\n",
        "\n",
        "XTrain, YTrain = CreateRangedDataSet(TrainData)\n",
        "XTest, YTest = CreateRangedDataSet(TestData)\n",
        "\n",
        "# Reshape\n",
        "XTrain = np.reshape(XTrain, (XTrain.shape[0], XTrain.shape[1], 1))\n",
        "XTest = np.reshape(XTest, (XTest.shape[0], XTest.shape[1], 1))\n",
        "\n",
        "# Print\n",
        "print(XTrain.shape)\n",
        "print(YTrain.shape)\n",
        "print(XTest.shape)"
      ],
      "metadata": {
        "colab": {
          "base_uri": "https://localhost:8080/"
        },
        "id": "07ZsffUKpbHL",
        "outputId": "d9098765-08e4-4ded-e96c-caddea12f5c7"
      },
      "execution_count": 5,
      "outputs": [
        {
          "output_type": "stream",
          "name": "stdout",
          "text": [
            "(2482, 60, 1)\n",
            "(2482,)\n",
            "(56, 60, 1)\n"
          ]
        }
      ]
    },
    {
      "cell_type": "code",
      "source": [
        "Loss = \"mse\"\n",
        "Optimizer = \"Adam\"\n",
        "\n",
        "def CreateModel():\n",
        "    Model = Sequential()\n",
        "    Model.add(layers.LSTM(units=50, return_sequences=True, input_shape=(XTrain.shape[1], 1)))\n",
        "    Model.add(layers.Dropout(0.2))\n",
        "    Model.add(layers.LSTM(units=50,return_sequences=True))\n",
        "    Model.add(layers.Dropout(0.2))\n",
        "    Model.add(layers.LSTM(units=50,return_sequences=True))\n",
        "    Model.add(layers.Dropout(0.2))\n",
        "    Model.add(layers.LSTM(units=50))\n",
        "    Model.add(layers.Dropout(0.2))\n",
        "    Model.add(layers.Dense(units=1))\n",
        "\n",
        "    Model.compile(optimizer=Optimizer, loss=Loss)\n",
        "    return Model"
      ],
      "metadata": {
        "id": "AWEaTPPAt_Wg"
      },
      "execution_count": 6,
      "outputs": []
    },
    {
      "cell_type": "code",
      "source": [
        "# Train\n",
        "Model = CreateModel()\n",
        "\n",
        "Epochs = 100\n",
        "BatchSize = 32\n",
        "Model.fit(XTrain, YTrain, epochs=Epochs, batch_size=BatchSize)"
      ],
      "metadata": {
        "id": "P-msMdEK1d5s",
        "colab": {
          "base_uri": "https://localhost:8080/"
        },
        "outputId": "6b290d4b-e195-4262-eac8-88d13809d4ec"
      },
      "execution_count": 7,
      "outputs": [
        {
          "output_type": "stream",
          "name": "stdout",
          "text": [
            "Epoch 1/100\n",
            "78/78 [==============================] - 16s 63ms/step - loss: 0.0051\n",
            "Epoch 2/100\n",
            "78/78 [==============================] - 5s 63ms/step - loss: 0.0020\n",
            "Epoch 3/100\n",
            "78/78 [==============================] - 5s 63ms/step - loss: 0.0022\n",
            "Epoch 4/100\n",
            "78/78 [==============================] - 5s 63ms/step - loss: 0.0019\n",
            "Epoch 5/100\n",
            "78/78 [==============================] - 5s 63ms/step - loss: 0.0016\n",
            "Epoch 6/100\n",
            "78/78 [==============================] - 5s 63ms/step - loss: 0.0014\n",
            "Epoch 7/100\n",
            "78/78 [==============================] - 5s 63ms/step - loss: 0.0016\n",
            "Epoch 8/100\n",
            "78/78 [==============================] - 5s 62ms/step - loss: 0.0016\n",
            "Epoch 9/100\n",
            "78/78 [==============================] - 5s 63ms/step - loss: 0.0014\n",
            "Epoch 10/100\n",
            "78/78 [==============================] - 5s 63ms/step - loss: 0.0012\n",
            "Epoch 11/100\n",
            "78/78 [==============================] - 5s 63ms/step - loss: 0.0013\n",
            "Epoch 12/100\n",
            "78/78 [==============================] - 5s 63ms/step - loss: 0.0011\n",
            "Epoch 13/100\n",
            "78/78 [==============================] - 5s 63ms/step - loss: 0.0011\n",
            "Epoch 14/100\n",
            "78/78 [==============================] - 5s 63ms/step - loss: 0.0011\n",
            "Epoch 15/100\n",
            "78/78 [==============================] - 5s 63ms/step - loss: 0.0012\n",
            "Epoch 16/100\n",
            "78/78 [==============================] - 5s 63ms/step - loss: 0.0013\n",
            "Epoch 17/100\n",
            "78/78 [==============================] - 5s 63ms/step - loss: 0.0010\n",
            "Epoch 18/100\n",
            "78/78 [==============================] - 5s 63ms/step - loss: 9.7271e-04\n",
            "Epoch 19/100\n",
            "78/78 [==============================] - 5s 63ms/step - loss: 9.4886e-04\n",
            "Epoch 20/100\n",
            "78/78 [==============================] - 5s 62ms/step - loss: 8.5434e-04\n",
            "Epoch 21/100\n",
            "78/78 [==============================] - 5s 62ms/step - loss: 7.9983e-04\n",
            "Epoch 22/100\n",
            "78/78 [==============================] - 5s 62ms/step - loss: 8.6799e-04\n",
            "Epoch 23/100\n",
            "78/78 [==============================] - 5s 63ms/step - loss: 0.0010\n",
            "Epoch 24/100\n",
            "78/78 [==============================] - 5s 62ms/step - loss: 8.5199e-04\n",
            "Epoch 25/100\n",
            "78/78 [==============================] - 5s 63ms/step - loss: 8.6059e-04\n",
            "Epoch 26/100\n",
            "78/78 [==============================] - 5s 62ms/step - loss: 9.3605e-04\n",
            "Epoch 27/100\n",
            "78/78 [==============================] - 5s 62ms/step - loss: 7.3008e-04\n",
            "Epoch 28/100\n",
            "78/78 [==============================] - 5s 62ms/step - loss: 7.7590e-04\n",
            "Epoch 29/100\n",
            "78/78 [==============================] - 5s 63ms/step - loss: 9.6557e-04\n",
            "Epoch 30/100\n",
            "78/78 [==============================] - 5s 62ms/step - loss: 7.5557e-04\n",
            "Epoch 31/100\n",
            "78/78 [==============================] - 5s 62ms/step - loss: 8.4327e-04\n",
            "Epoch 32/100\n",
            "78/78 [==============================] - 5s 62ms/step - loss: 7.7384e-04\n",
            "Epoch 33/100\n",
            "78/78 [==============================] - 5s 62ms/step - loss: 8.2431e-04\n",
            "Epoch 34/100\n",
            "78/78 [==============================] - 5s 62ms/step - loss: 7.7870e-04\n",
            "Epoch 35/100\n",
            "78/78 [==============================] - 5s 62ms/step - loss: 7.4116e-04\n",
            "Epoch 36/100\n",
            "78/78 [==============================] - 5s 63ms/step - loss: 6.5339e-04\n",
            "Epoch 37/100\n",
            "78/78 [==============================] - 5s 62ms/step - loss: 7.5003e-04\n",
            "Epoch 38/100\n",
            "78/78 [==============================] - 5s 62ms/step - loss: 8.1517e-04\n",
            "Epoch 39/100\n",
            "78/78 [==============================] - 5s 63ms/step - loss: 8.6387e-04\n",
            "Epoch 40/100\n",
            "78/78 [==============================] - 5s 63ms/step - loss: 7.0588e-04\n",
            "Epoch 41/100\n",
            "78/78 [==============================] - 5s 63ms/step - loss: 6.4396e-04\n",
            "Epoch 42/100\n",
            "78/78 [==============================] - 5s 63ms/step - loss: 8.3722e-04\n",
            "Epoch 43/100\n",
            "78/78 [==============================] - 5s 63ms/step - loss: 7.5061e-04\n",
            "Epoch 44/100\n",
            "78/78 [==============================] - 5s 63ms/step - loss: 6.8913e-04\n",
            "Epoch 45/100\n",
            "78/78 [==============================] - 5s 63ms/step - loss: 6.9673e-04\n",
            "Epoch 46/100\n",
            "78/78 [==============================] - 5s 63ms/step - loss: 6.6937e-04\n",
            "Epoch 47/100\n",
            "78/78 [==============================] - 5s 63ms/step - loss: 6.9814e-04\n",
            "Epoch 48/100\n",
            "78/78 [==============================] - 5s 63ms/step - loss: 5.6497e-04\n",
            "Epoch 49/100\n",
            "78/78 [==============================] - 5s 63ms/step - loss: 6.8050e-04\n",
            "Epoch 50/100\n",
            "78/78 [==============================] - 5s 63ms/step - loss: 6.9973e-04\n",
            "Epoch 51/100\n",
            "78/78 [==============================] - 5s 63ms/step - loss: 6.3910e-04\n",
            "Epoch 52/100\n",
            "78/78 [==============================] - 5s 63ms/step - loss: 5.8096e-04\n",
            "Epoch 53/100\n",
            "78/78 [==============================] - 5s 63ms/step - loss: 5.9501e-04\n",
            "Epoch 54/100\n",
            "78/78 [==============================] - 5s 63ms/step - loss: 6.4215e-04\n",
            "Epoch 55/100\n",
            "78/78 [==============================] - 5s 63ms/step - loss: 6.3456e-04\n",
            "Epoch 56/100\n",
            "78/78 [==============================] - 5s 63ms/step - loss: 7.4506e-04\n",
            "Epoch 57/100\n",
            "78/78 [==============================] - 5s 63ms/step - loss: 7.3746e-04\n",
            "Epoch 58/100\n",
            "78/78 [==============================] - 5s 63ms/step - loss: 6.1899e-04\n",
            "Epoch 59/100\n",
            "78/78 [==============================] - 5s 62ms/step - loss: 6.1914e-04\n",
            "Epoch 60/100\n",
            "78/78 [==============================] - 5s 62ms/step - loss: 5.7400e-04\n",
            "Epoch 61/100\n",
            "78/78 [==============================] - 5s 63ms/step - loss: 7.2035e-04\n",
            "Epoch 62/100\n",
            "78/78 [==============================] - 5s 63ms/step - loss: 6.3564e-04\n",
            "Epoch 63/100\n",
            "78/78 [==============================] - 5s 63ms/step - loss: 5.5277e-04\n",
            "Epoch 64/100\n",
            "78/78 [==============================] - 5s 63ms/step - loss: 7.1183e-04\n",
            "Epoch 65/100\n",
            "78/78 [==============================] - 5s 63ms/step - loss: 6.8821e-04\n",
            "Epoch 66/100\n",
            "78/78 [==============================] - 5s 63ms/step - loss: 6.3532e-04\n",
            "Epoch 67/100\n",
            "78/78 [==============================] - 5s 63ms/step - loss: 6.8217e-04\n",
            "Epoch 68/100\n",
            "78/78 [==============================] - 5s 62ms/step - loss: 6.6955e-04\n",
            "Epoch 69/100\n",
            "78/78 [==============================] - 5s 63ms/step - loss: 6.2924e-04\n",
            "Epoch 70/100\n",
            "78/78 [==============================] - 5s 63ms/step - loss: 6.2430e-04\n",
            "Epoch 71/100\n",
            "78/78 [==============================] - 5s 62ms/step - loss: 6.3954e-04\n",
            "Epoch 72/100\n",
            "78/78 [==============================] - 5s 63ms/step - loss: 5.6813e-04\n",
            "Epoch 73/100\n",
            "78/78 [==============================] - 5s 63ms/step - loss: 6.2115e-04\n",
            "Epoch 74/100\n",
            "78/78 [==============================] - 5s 63ms/step - loss: 6.0580e-04\n",
            "Epoch 75/100\n",
            "78/78 [==============================] - 5s 63ms/step - loss: 6.6594e-04\n",
            "Epoch 76/100\n",
            "78/78 [==============================] - 5s 63ms/step - loss: 7.4322e-04\n",
            "Epoch 77/100\n",
            "78/78 [==============================] - 5s 63ms/step - loss: 6.1494e-04\n",
            "Epoch 78/100\n",
            "78/78 [==============================] - 5s 63ms/step - loss: 6.1831e-04\n",
            "Epoch 79/100\n",
            "78/78 [==============================] - 5s 63ms/step - loss: 5.7615e-04\n",
            "Epoch 80/100\n",
            "78/78 [==============================] - 5s 63ms/step - loss: 6.8101e-04\n",
            "Epoch 81/100\n",
            "78/78 [==============================] - 5s 64ms/step - loss: 6.8039e-04\n",
            "Epoch 82/100\n",
            "78/78 [==============================] - 5s 63ms/step - loss: 6.0521e-04\n",
            "Epoch 83/100\n",
            "78/78 [==============================] - 5s 63ms/step - loss: 6.3192e-04\n",
            "Epoch 84/100\n",
            "78/78 [==============================] - 5s 63ms/step - loss: 6.4754e-04\n",
            "Epoch 85/100\n",
            "78/78 [==============================] - 5s 62ms/step - loss: 5.4315e-04\n",
            "Epoch 86/100\n",
            "78/78 [==============================] - 5s 63ms/step - loss: 7.1876e-04\n",
            "Epoch 87/100\n",
            "78/78 [==============================] - 5s 64ms/step - loss: 5.0901e-04\n",
            "Epoch 88/100\n",
            "78/78 [==============================] - 5s 63ms/step - loss: 5.1409e-04\n",
            "Epoch 89/100\n",
            "78/78 [==============================] - 5s 63ms/step - loss: 4.6636e-04\n",
            "Epoch 90/100\n",
            "78/78 [==============================] - 5s 63ms/step - loss: 5.7440e-04\n",
            "Epoch 91/100\n",
            "78/78 [==============================] - 5s 63ms/step - loss: 5.7281e-04\n",
            "Epoch 92/100\n",
            "78/78 [==============================] - 5s 63ms/step - loss: 5.0418e-04\n",
            "Epoch 93/100\n",
            "78/78 [==============================] - 5s 63ms/step - loss: 5.7425e-04\n",
            "Epoch 94/100\n",
            "78/78 [==============================] - 5s 64ms/step - loss: 6.3998e-04\n",
            "Epoch 95/100\n",
            "78/78 [==============================] - 5s 63ms/step - loss: 5.8273e-04\n",
            "Epoch 96/100\n",
            "78/78 [==============================] - 5s 63ms/step - loss: 5.9362e-04\n",
            "Epoch 97/100\n",
            "78/78 [==============================] - 5s 64ms/step - loss: 5.2785e-04\n",
            "Epoch 98/100\n",
            "78/78 [==============================] - 5s 63ms/step - loss: 5.9383e-04\n",
            "Epoch 99/100\n",
            "78/78 [==============================] - 5s 69ms/step - loss: 5.5250e-04\n",
            "Epoch 100/100\n",
            "78/78 [==============================] - 5s 65ms/step - loss: 5.2630e-04\n"
          ]
        },
        {
          "output_type": "execute_result",
          "data": {
            "text/plain": [
              "<keras.callbacks.History at 0x7f6994f71cd0>"
            ]
          },
          "metadata": {},
          "execution_count": 7
        }
      ]
    },
    {
      "cell_type": "code",
      "source": [
        "Prediction = Model.predict(XTest)\n",
        "Prediction = Scaler.inverse_transform(Prediction)\n",
        "YTestScaled = Scaler.inverse_transform(YTest.reshape(-1, 1))\n",
        "\n",
        "fig = plt.subplots(figsize=(16,8))\n",
        "plt.plot(YTestScaled, color='blue', label='Original Price')\n",
        "plt.plot(Prediction, color='orange', label='Predicted Price')\n",
        "plt.title('Checking')\n",
        "plt.ylabel('Price')\n",
        "plt.xlabel('Date')\n",
        "plt.legend()\n"
      ],
      "metadata": {
        "colab": {
          "base_uri": "https://localhost:8080/",
          "height": 532
        },
        "id": "GABRfzGw18ML",
        "outputId": "243490b3-d2e1-4783-e4a9-4216901d9f08"
      },
      "execution_count": 9,
      "outputs": [
        {
          "output_type": "execute_result",
          "data": {
            "text/plain": [
              "<matplotlib.legend.Legend at 0x7f696bb18bd0>"
            ]
          },
          "metadata": {},
          "execution_count": 9
        },
        {
          "output_type": "display_data",
          "data": {
            "image/png": "[encoded data removed]",
            "text/plain": [
              "<Figure size 1152x576 with 1 Axes>"
            ]
          },
          "metadata": {
            "needs_background": "light"
          }
        }
      ]
    },
    {
      "cell_type": "markdown",
      "source": [
        "#Question 2\n"
      ],
      "metadata": {
        "id": "EtdMJgX0jKo2"
      }
    },
    {
      "cell_type": "code",
      "source": [
        "# Variables\n",
        "OptimizerSecond = \"Adam\"\n",
        "LossSecond = \"categorical_crossentropy\"\n",
        "EpochSecond = 5\n",
        "BatchSecond = 32\n",
        "\n",
        "# Space Included \n",
        "Alphabets = \" abcdefghijklmnopqrstuvwxyz\" "
      ],
      "metadata": {
        "id": "fsPOjmzv4dG4"
      },
      "execution_count": 24,
      "outputs": []
    },
    {
      "cell_type": "code",
      "source": [
        "# Get Data\n",
        "File = open(\"enc-dec.txt\")\n",
        "Content = File.read()\n",
        "ContentList = Content.split(\"\\n\")\n",
        "\n",
        "XTrainSecond = np.zeros((len(ContentList), 10, len(Alphabets)))\n",
        "YTrainSecond = np.zeros((len(ContentList), 10, len(Alphabets)))\n",
        "\n",
        "for I in range(len(ContentList)):\n",
        "    TempX = ContentList[I].split(\"\\t\")[0]\n",
        "    TempY = ContentList[I].split(\"\\t\")[1]\n",
        "    # Add Space To The End Of The Words\n",
        "    if len(TempX) < 10:\n",
        "        TempX += (10 - len(TempX)) * ' '\n",
        "    if len(TempY) < 10:\n",
        "        TempY += (10 - len(TempY)) * ' '\n",
        "\n",
        "    # Coding The Arrays!\n",
        "    for J in range(10):\n",
        "        XTrainSecond[I, J, Alphabets.find(TempX[J])] = 1\n",
        "        YTrainSecond[I, J, Alphabets.find(TempY[J])] = 1\n",
        "# We Noe Have The Data"
      ],
      "metadata": {
        "id": "2nQ2H7b5jL_E"
      },
      "execution_count": 25,
      "outputs": []
    },
    {
      "cell_type": "code",
      "source": [
        "# We Have To Repeat What We Did For The Test Data As Well\n",
        "TestDataSecond = \"onmltsrqpoihgrezcba lknrvjihgfueiizltflk\"\n",
        "TenChars = []\n",
        "for I in range(0, len(TestDataSecond), 10): \n",
        "    TenChars.append(TestDataSecond[I:I + 10])\n",
        "\n",
        "XTestSecond = np.zeros((len(TenChars), 10, len(Alphabets)))\n",
        "\n",
        "for I in range(len(TenChars)):\n",
        "    for J in range(10):\n",
        "        XTestSecond[I, J, Alphabets.find(TenChars[I][J])] = 1"
      ],
      "metadata": {
        "id": "ANf_CIQB56Eh"
      },
      "execution_count": 26,
      "outputs": []
    },
    {
      "cell_type": "code",
      "source": [
        "def CreateSecondModel():\n",
        "    Model = Sequential()\n",
        "    Model.add(layers.GRU(units=256, input_shape=(XTrainSecond[0].shape)))\n",
        "    Model.add(layers.RepeatVector(10))\n",
        "    Model.add(layers.GRU(units=256, return_sequences=True))\n",
        "    Model.add(layers.GRU(units=256, return_sequences=True))\n",
        "    Model.add(layers.Dense(units=len(Alphabets)))\n",
        "\n",
        "    Model.compile(optimizer=Optimizer, loss=Loss, metrics=['accuracy'])\n",
        "    return Model"
      ],
      "metadata": {
        "id": "xpEqKpkP9KVp"
      },
      "execution_count": 36,
      "outputs": []
    },
    {
      "cell_type": "code",
      "source": [
        "# Train\n",
        "ModelSecond = CreateSecondModel()\n",
        "ModelSecond.fit(XTrainSecond, YTrainSecond, BatchSecond, EpochSecond)\n"
      ],
      "metadata": {
        "id": "j-PcmAXGApvA",
        "colab": {
          "base_uri": "https://localhost:8080/"
        },
        "outputId": "3930236f-a0fb-4b62-87e9-5fc5222d2bf9"
      },
      "execution_count": 38,
      "outputs": [
        {
          "output_type": "stream",
          "name": "stdout",
          "text": [
            "Epoch 1/5\n",
            "4759/4759 [==============================] - 97s 19ms/step - loss: 0.0234 - accuracy: 0.4791\n",
            "Epoch 2/5\n",
            "4759/4759 [==============================] - 89s 19ms/step - loss: 0.0082 - accuracy: 0.8626\n",
            "Epoch 3/5\n",
            "4759/4759 [==============================] - 89s 19ms/step - loss: 0.0043 - accuracy: 0.9287\n",
            "Epoch 4/5\n",
            "4759/4759 [==============================] - 89s 19ms/step - loss: 0.0033 - accuracy: 0.9431\n",
            "Epoch 5/5\n",
            "4759/4759 [==============================] - 90s 19ms/step - loss: 0.0028 - accuracy: 0.9499\n"
          ]
        },
        {
          "output_type": "execute_result",
          "data": {
            "text/plain": [
              "<keras.callbacks.History at 0x7f6961ea4ad0>"
            ]
          },
          "metadata": {},
          "execution_count": 38
        }
      ]
    },
    {
      "cell_type": "code",
      "source": [
        "# Test & See The Answer\n",
        "Preds = ModelSecond.predict(XTestSecond)\n",
        "Decrypted = \"\"\n",
        "for i in range(Preds.shape[0]):\n",
        "    for j in range(Preds.shape[1]):\n",
        "        Decrypted += Alphabets[np.argmax(Preds[i, j])]\n",
        "        \n",
        "print(Decrypted)"
      ],
      "metadata": {
        "colab": {
          "base_uri": "https://localhost:8080/"
        },
        "id": "hvWDvecMFeUI",
        "outputId": "4dd27079-d855-4e2b-91f6-e4d4c07d9ba3"
      },
      "execution_count": 40,
      "outputs": [
        {
          "output_type": "stream",
          "name": "stdout",
          "text": [
            "    i        love     deep    olearding \n"
          ]
        }
      ]
    },
    {
      "cell_type": "code",
      "source": [
        "def CreateSecondModelPrime():\n",
        "    Model = Sequential()\n",
        "    Model.add(layers.GRU(units=128, input_shape=(XTrainSecond[0].shape)))\n",
        "    Model.add(layers.RepeatVector(10))\n",
        "    Model.add(layers.GRU(units=256, return_sequences=True))\n",
        "    Model.add(layers.GRU(units=512, return_sequences=True))\n",
        "    Model.add(layers.Dense(units=len(Alphabets)))\n",
        "\n",
        "    Model.compile(optimizer=Optimizer, loss=Loss, metrics=['accuracy'])\n",
        "    return Model"
      ],
      "metadata": {
        "id": "swO-oZKsJuU1"
      },
      "execution_count": 43,
      "outputs": []
    },
    {
      "cell_type": "code",
      "source": [
        "# Train\n",
        "ModelSecondPrime = CreateSecondModelPrime()\n",
        "ModelSecondPrime.fit(XTrainSecond, YTrainSecond, BatchSecond, EpochSecond)\n"
      ],
      "metadata": {
        "colab": {
          "base_uri": "https://localhost:8080/"
        },
        "id": "cenVQNcjJ01e",
        "outputId": "1212c329-11ec-4fad-9055-c0dc233960d0"
      },
      "execution_count": 44,
      "outputs": [
        {
          "output_type": "stream",
          "name": "stdout",
          "text": [
            "Epoch 1/5\n",
            "4759/4759 [==============================] - 104s 21ms/step - loss: 0.0248 - accuracy: 0.4338\n",
            "Epoch 2/5\n",
            "4759/4759 [==============================] - 98s 21ms/step - loss: 0.0120 - accuracy: 0.7756\n",
            "Epoch 3/5\n",
            "4759/4759 [==============================] - 99s 21ms/step - loss: 0.0061 - accuracy: 0.8990\n",
            "Epoch 4/5\n",
            "4759/4759 [==============================] - 99s 21ms/step - loss: 0.0041 - accuracy: 0.9325\n",
            "Epoch 5/5\n",
            "4759/4759 [==============================] - 99s 21ms/step - loss: 0.0033 - accuracy: 0.9443\n"
          ]
        },
        {
          "output_type": "execute_result",
          "data": {
            "text/plain": [
              "<keras.callbacks.History at 0x7f6994463a90>"
            ]
          },
          "metadata": {},
          "execution_count": 44
        }
      ]
    },
    {
      "cell_type": "code",
      "source": [
        "# Test & See The Answer\n",
        "Preds = ModelSecondPrime.predict(XTestSecond)\n",
        "Decrypted = \"\"\n",
        "for i in range(Preds.shape[0]):\n",
        "    for j in range(Preds.shape[1]):\n",
        "        Decrypted += Alphabets[np.argmax(Preds[i, j])]\n",
        "        \n",
        "print(Decrypted)"
      ],
      "metadata": {
        "colab": {
          "base_uri": "https://localhost:8080/"
        },
        "id": "FLvGS6W2J2LJ",
        "outputId": "1c8614f3-0900-4fee-d020-7a8a43a43cd1"
      },
      "execution_count": 45,
      "outputs": [
        {
          "output_type": "stream",
          "name": "stdout",
          "text": [
            "    ic       love   s deep    plearning \n"
          ]
        }
      ]
    }
  ]
}